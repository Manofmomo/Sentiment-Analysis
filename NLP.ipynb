{
 "cells": [
  {
   "cell_type": "code",
   "execution_count": 1,
   "metadata": {
    "scrolled": false
   },
   "outputs": [],
   "source": [
    "import pandas as pd\n",
    "import re\n",
    "from bs4 import BeautifulSoup\n",
    "import unidecode\n",
    "import contractions\n",
    "pd.set_option('display.max_colwidth', None)\n",
    "import string \n",
    "import spacy \n",
    "from nltk.corpus import stopwords\n",
    "from nltk.tokenize import word_tokenize\n",
    "nlp = spacy.load('en_core_web_sm')\n",
    "import nltk\n",
    "from wordcloud import WordCloud, STOPWORDS\n",
    "\n",
    "from nltk.stem import WordNetLemmatizer\n",
    "  \n",
    "lemmatizer = WordNetLemmatizer()\n",
    "  \n",
    "from nltk.stem import PorterStemmer,SnowballStemmer\n",
    "ps = PorterStemmer()\n",
    "stemmer = SnowballStemmer(\"english\")"
   ]
  },
  {
   "cell_type": "code",
   "execution_count": null,
   "metadata": {},
   "outputs": [],
   "source": []
  },
  {
   "cell_type": "code",
   "execution_count": 2,
   "metadata": {},
   "outputs": [],
   "source": [
    "df=pd.read_csv('IMDB Dataset.csv')"
   ]
  },
  {
   "cell_type": "code",
   "execution_count": null,
   "metadata": {},
   "outputs": [],
   "source": []
  },
  {
   "cell_type": "code",
   "execution_count": 3,
   "metadata": {},
   "outputs": [],
   "source": [
    "df['review_clean']=df['review'].apply(lambda x:re.sub('(<[a-z ]*\\/>)',' ',x))"
   ]
  },
  {
   "cell_type": "code",
   "execution_count": null,
   "metadata": {},
   "outputs": [],
   "source": []
  },
  {
   "cell_type": "code",
   "execution_count": 4,
   "metadata": {},
   "outputs": [
    {
     "data": {
      "text/plain": [
       "'hiiiiii iiiii'"
      ]
     },
     "execution_count": 4,
     "metadata": {},
     "output_type": "execute_result"
    }
   ],
   "source": [
    "'HIIIIII iiiii'.lower()"
   ]
  },
  {
   "cell_type": "code",
   "execution_count": 5,
   "metadata": {},
   "outputs": [],
   "source": [
    "df['review_clean']=df['review_clean'].apply(lambda x:x.lower())"
   ]
  },
  {
   "cell_type": "code",
   "execution_count": null,
   "metadata": {},
   "outputs": [],
   "source": []
  },
  {
   "cell_type": "code",
   "execution_count": null,
   "metadata": {
    "scrolled": false
   },
   "outputs": [],
   "source": []
  },
  {
   "cell_type": "code",
   "execution_count": 6,
   "metadata": {},
   "outputs": [],
   "source": [
    "\n",
    "def remove_accented_chars(text): \n",
    "    \"\"\"remove accented characters from text, e.g. café\"\"\" \n",
    "    text = unidecode.unidecode(text) \n",
    "    return text\n",
    "def expand_contractions(text): \n",
    "    \"\"\"expand shortened words, e.g. don't to do not\"\"\" \n",
    "    text = contractions.fix(text) \n",
    "    return text"
   ]
  },
  {
   "cell_type": "code",
   "execution_count": 7,
   "metadata": {},
   "outputs": [],
   "source": [
    "df['review_clean']=df['review_clean'].apply(remove_accented_chars)"
   ]
  },
  {
   "cell_type": "code",
   "execution_count": 8,
   "metadata": {},
   "outputs": [],
   "source": [
    "df['review_clean']=df['review_clean'].apply(expand_contractions)"
   ]
  },
  {
   "cell_type": "code",
   "execution_count": null,
   "metadata": {},
   "outputs": [],
   "source": []
  },
  {
   "cell_type": "code",
   "execution_count": null,
   "metadata": {},
   "outputs": [],
   "source": []
  },
  {
   "cell_type": "code",
   "execution_count": 9,
   "metadata": {
    "scrolled": true
   },
   "outputs": [],
   "source": [
    "df['review_clean']=df['review_clean'].apply(lambda x:x.translate({y: ' ' for y in str.maketrans('','', string.punctuation)}))"
   ]
  },
  {
   "cell_type": "code",
   "execution_count": null,
   "metadata": {},
   "outputs": [],
   "source": []
  },
  {
   "cell_type": "code",
   "execution_count": 10,
   "metadata": {},
   "outputs": [],
   "source": [
    "df['review_clean']=df['review_clean'].apply(word_tokenize)"
   ]
  },
  {
   "cell_type": "code",
   "execution_count": 11,
   "metadata": {
    "scrolled": false
   },
   "outputs": [
    {
     "data": {
      "text/html": [
       "<div>\n",
       "<style scoped>\n",
       "    .dataframe tbody tr th:only-of-type {\n",
       "        vertical-align: middle;\n",
       "    }\n",
       "\n",
       "    .dataframe tbody tr th {\n",
       "        vertical-align: top;\n",
       "    }\n",
       "\n",
       "    .dataframe thead th {\n",
       "        text-align: right;\n",
       "    }\n",
       "</style>\n",
       "<table border=\"1\" class=\"dataframe\">\n",
       "  <thead>\n",
       "    <tr style=\"text-align: right;\">\n",
       "      <th></th>\n",
       "      <th>review</th>\n",
       "      <th>sentiment</th>\n",
       "      <th>review_clean</th>\n",
       "    </tr>\n",
       "  </thead>\n",
       "  <tbody>\n",
       "    <tr>\n",
       "      <th>0</th>\n",
       "      <td>One of the other reviewers has mentioned that after watching just 1 Oz episode you'll be hooked. They are right, as this is exactly what happened with me.&lt;br /&gt;&lt;br /&gt;The first thing that struck me about Oz was its brutality and unflinching scenes of violence, which set in right from the word GO. Trust me, this is not a show for the faint hearted or timid. This show pulls no punches with regards to drugs, sex or violence. Its is hardcore, in the classic use of the word.&lt;br /&gt;&lt;br /&gt;It is called OZ as that is the nickname given to the Oswald Maximum Security State Penitentary. It focuses mainly on Emerald City, an experimental section of the prison where all the cells have glass fronts and face inwards, so privacy is not high on the agenda. Em City is home to many..Aryans, Muslims, gangstas, Latinos, Christians, Italians, Irish and more....so scuffles, death stares, dodgy dealings and shady agreements are never far away.&lt;br /&gt;&lt;br /&gt;I would say the main appeal of the show is due to the fact that it goes where other shows wouldn't dare. Forget pretty pictures painted for mainstream audiences, forget charm, forget romance...OZ doesn't mess around. The first episode I ever saw struck me as so nasty it was surreal, I couldn't say I was ready for it, but as I watched more, I developed a taste for Oz, and got accustomed to the high levels of graphic violence. Not just violence, but injustice (crooked guards who'll be sold out for a nickel, inmates who'll kill on order and get away with it, well mannered, middle class inmates being turned into prison bitches due to their lack of street skills or prison experience) Watching Oz, you may become comfortable with what is uncomfortable viewing....thats if you can get in touch with your darker side.</td>\n",
       "      <td>positive</td>\n",
       "      <td>[one, of, the, other, reviewers, has, mentioned, that, after, watching, just, 1, oz, episode, you, will, be, hooked, they, are, right, as, this, is, exactly, what, happened, with, me, the, first, thing, that, struck, me, about, oz, was, its, brutality, and, unflinching, scenes, of, violence, which, set, in, right, from, the, word, go, trust, me, this, is, not, a, show, for, the, faint, hearted, or, timid, this, show, pulls, no, punches, with, regards, to, drugs, sex, or, violence, its, is, hardcore, in, the, classic, use, of, the, word, it, is, called, oz, as, that, is, the, nickname, given, to, the, ...]</td>\n",
       "    </tr>\n",
       "    <tr>\n",
       "      <th>1</th>\n",
       "      <td>A wonderful little production. &lt;br /&gt;&lt;br /&gt;The filming technique is very unassuming- very old-time-BBC fashion and gives a comforting, and sometimes discomforting, sense of realism to the entire piece. &lt;br /&gt;&lt;br /&gt;The actors are extremely well chosen- Michael Sheen not only \"has got all the polari\" but he has all the voices down pat too! You can truly see the seamless editing guided by the references to Williams' diary entries, not only is it well worth the watching but it is a terrificly written and performed piece. A masterful production about one of the great master's of comedy and his life. &lt;br /&gt;&lt;br /&gt;The realism really comes home with the little things: the fantasy of the guard which, rather than use the traditional 'dream' techniques remains solid then disappears. It plays on our knowledge and our senses, particularly with the scenes concerning Orton and Halliwell and the sets (particularly of their flat with Halliwell's murals decorating every surface) are terribly well done.</td>\n",
       "      <td>positive</td>\n",
       "      <td>[a, wonderful, little, production, the, filming, technique, is, very, unassuming, very, old, time, bbc, fashion, and, gives, a, comforting, and, sometimes, discomforting, sense, of, realism, to, the, entire, piece, the, actors, are, extremely, well, chosen, michael, sheen, not, only, has, got, all, the, polari, but, he, has, all, the, voices, down, pat, too, you, can, truly, see, the, seamless, editing, guided, by, the, references, to, williams, diary, entries, not, only, is, it, well, worth, the, watching, but, it, is, a, terrificly, written, and, performed, piece, a, masterful, production, about, one, of, the, great, master, s, of, comedy, and, his, life, ...]</td>\n",
       "    </tr>\n",
       "    <tr>\n",
       "      <th>2</th>\n",
       "      <td>I thought this was a wonderful way to spend time on a too hot summer weekend, sitting in the air conditioned theater and watching a light-hearted comedy. The plot is simplistic, but the dialogue is witty and the characters are likable (even the well bread suspected serial killer). While some may be disappointed when they realize this is not Match Point 2: Risk Addiction, I thought it was proof that Woody Allen is still fully in control of the style many of us have grown to love.&lt;br /&gt;&lt;br /&gt;This was the most I'd laughed at one of Woody's comedies in years (dare I say a decade?). While I've never been impressed with Scarlet Johanson, in this she managed to tone down her \"sexy\" image and jumped right into a average, but spirited young woman.&lt;br /&gt;&lt;br /&gt;This may not be the crown jewel of his career, but it was wittier than \"Devil Wears Prada\" and more interesting than \"Superman\" a great comedy to go see with friends.</td>\n",
       "      <td>positive</td>\n",
       "      <td>[i, thought, this, was, a, wonderful, way, to, spend, time, on, a, too, hot, summer, weekend, sitting, in, the, air, conditioned, theater, and, watching, a, light, hearted, comedy, the, plot, is, simplistic, but, the, dialogue, is, witty, and, the, characters, are, likable, even, the, well, bread, suspected, serial, killer, while, some, may, be, disappointed, when, they, realize, this, is, not, match, point, 2, risk, addiction, i, thought, it, was, proof, that, woody, allen, is, still, fully, in, control, of, the, style, many, of, us, have, grown, to, love, this, was, the, most, I, would, laughed, at, one, of, woody, s, ...]</td>\n",
       "    </tr>\n",
       "    <tr>\n",
       "      <th>3</th>\n",
       "      <td>Basically there's a family where a little boy (Jake) thinks there's a zombie in his closet &amp; his parents are fighting all the time.&lt;br /&gt;&lt;br /&gt;This movie is slower than a soap opera... and suddenly, Jake decides to become Rambo and kill the zombie.&lt;br /&gt;&lt;br /&gt;OK, first of all when you're going to make a film you must Decide if its a thriller or a drama! As a drama the movie is watchable. Parents are divorcing &amp; arguing like in real life. And then we have Jake with his closet which totally ruins all the film! I expected to see a BOOGEYMAN similar movie, and instead i watched a drama with some meaningless thriller spots.&lt;br /&gt;&lt;br /&gt;3 out of 10 just for the well playing parents &amp; descent dialogs. As for the shots with Jake: just ignore them.</td>\n",
       "      <td>negative</td>\n",
       "      <td>[basically, there, is, a, family, where, a, little, boy, jake, thinks, there, is, a, zombie, in, his, closet, his, parents, are, fighting, all, the, time, this, movie, is, slower, than, a, soap, opera, and, suddenly, jake, decides, to, become, rambo, and, kill, the, zombie, ok, first, of, all, when, you, are, going, to, make, a, film, you, must, decide, if, its, a, thriller, or, a, drama, as, a, drama, the, movie, is, watchable, parents, are, divorcing, arguing, like, in, real, life, and, then, we, have, jake, with, his, closet, which, totally, ruins, all, the, film, i, expected, to, see, a, ...]</td>\n",
       "    </tr>\n",
       "    <tr>\n",
       "      <th>4</th>\n",
       "      <td>Petter Mattei's \"Love in the Time of Money\" is a visually stunning film to watch. Mr. Mattei offers us a vivid portrait about human relations. This is a movie that seems to be telling us what money, power and success do to people in the different situations we encounter. &lt;br /&gt;&lt;br /&gt;This being a variation on the Arthur Schnitzler's play about the same theme, the director transfers the action to the present time New York where all these different characters meet and connect. Each one is connected in one way, or another to the next person, but no one seems to know the previous point of contact. Stylishly, the film has a sophisticated luxurious look. We are taken to see how these people live and the world they live in their own habitat.&lt;br /&gt;&lt;br /&gt;The only thing one gets out of all these souls in the picture is the different stages of loneliness each one inhabits. A big city is not exactly the best place in which human relations find sincere fulfillment, as one discerns is the case with most of the people we encounter.&lt;br /&gt;&lt;br /&gt;The acting is good under Mr. Mattei's direction. Steve Buscemi, Rosario Dawson, Carol Kane, Michael Imperioli, Adrian Grenier, and the rest of the talented cast, make these characters come alive.&lt;br /&gt;&lt;br /&gt;We wish Mr. Mattei good luck and await anxiously for his next work.</td>\n",
       "      <td>positive</td>\n",
       "      <td>[petter, mattei, s, love, in, the, time, of, money, is, a, visually, stunning, film, to, watch, mr, mattei, offers, us, a, vivid, portrait, about, human, relations, this, is, a, movie, that, seems, to, be, telling, us, what, money, power, and, success, do, to, people, in, the, different, situations, we, encounter, this, being, a, variation, on, the, arthur, schnitzler, s, play, about, the, same, theme, the, director, transfers, the, action, to, the, present, time, new, york, where, all, these, different, characters, meet, and, connect, each, one, is, connected, in, one, way, or, another, to, the, next, person, but, no, one, seems, ...]</td>\n",
       "    </tr>\n",
       "  </tbody>\n",
       "</table>\n",
       "</div>"
      ],
      "text/plain": [
       "                                                                                                                                                                                                                                                                                                                                                                                                                                                                                                                                                                                                                                                                                                                                                                                                                                                                                                                                                                                                                                                                                                                                                                                                                                                                                                                                                                                                                                                                                                                                                                                                                                                                                                                                                                                                                              review  \\\n",
       "0  One of the other reviewers has mentioned that after watching just 1 Oz episode you'll be hooked. They are right, as this is exactly what happened with me.<br /><br />The first thing that struck me about Oz was its brutality and unflinching scenes of violence, which set in right from the word GO. Trust me, this is not a show for the faint hearted or timid. This show pulls no punches with regards to drugs, sex or violence. Its is hardcore, in the classic use of the word.<br /><br />It is called OZ as that is the nickname given to the Oswald Maximum Security State Penitentary. It focuses mainly on Emerald City, an experimental section of the prison where all the cells have glass fronts and face inwards, so privacy is not high on the agenda. Em City is home to many..Aryans, Muslims, gangstas, Latinos, Christians, Italians, Irish and more....so scuffles, death stares, dodgy dealings and shady agreements are never far away.<br /><br />I would say the main appeal of the show is due to the fact that it goes where other shows wouldn't dare. Forget pretty pictures painted for mainstream audiences, forget charm, forget romance...OZ doesn't mess around. The first episode I ever saw struck me as so nasty it was surreal, I couldn't say I was ready for it, but as I watched more, I developed a taste for Oz, and got accustomed to the high levels of graphic violence. Not just violence, but injustice (crooked guards who'll be sold out for a nickel, inmates who'll kill on order and get away with it, well mannered, middle class inmates being turned into prison bitches due to their lack of street skills or prison experience) Watching Oz, you may become comfortable with what is uncomfortable viewing....thats if you can get in touch with your darker side.   \n",
       "1                                                                                                                                                                                                                                                                                                                                                                                                                                                                                                                                                                                                                                                                                                                                                                                             A wonderful little production. <br /><br />The filming technique is very unassuming- very old-time-BBC fashion and gives a comforting, and sometimes discomforting, sense of realism to the entire piece. <br /><br />The actors are extremely well chosen- Michael Sheen not only \"has got all the polari\" but he has all the voices down pat too! You can truly see the seamless editing guided by the references to Williams' diary entries, not only is it well worth the watching but it is a terrificly written and performed piece. A masterful production about one of the great master's of comedy and his life. <br /><br />The realism really comes home with the little things: the fantasy of the guard which, rather than use the traditional 'dream' techniques remains solid then disappears. It plays on our knowledge and our senses, particularly with the scenes concerning Orton and Halliwell and the sets (particularly of their flat with Halliwell's murals decorating every surface) are terribly well done.   \n",
       "2                                                                                                                                                                                                                                                                                                                                                                                                                                                                                                                                                                                                                                                                                                                                                                                                                                                                     I thought this was a wonderful way to spend time on a too hot summer weekend, sitting in the air conditioned theater and watching a light-hearted comedy. The plot is simplistic, but the dialogue is witty and the characters are likable (even the well bread suspected serial killer). While some may be disappointed when they realize this is not Match Point 2: Risk Addiction, I thought it was proof that Woody Allen is still fully in control of the style many of us have grown to love.<br /><br />This was the most I'd laughed at one of Woody's comedies in years (dare I say a decade?). While I've never been impressed with Scarlet Johanson, in this she managed to tone down her \"sexy\" image and jumped right into a average, but spirited young woman.<br /><br />This may not be the crown jewel of his career, but it was wittier than \"Devil Wears Prada\" and more interesting than \"Superman\" a great comedy to go see with friends.   \n",
       "3                                                                                                                                                                                                                                                                                                                                                                                                                                                                                                                                                                                                                                                                                                                                                                                                                                                                                                                                                                                                                                                       Basically there's a family where a little boy (Jake) thinks there's a zombie in his closet & his parents are fighting all the time.<br /><br />This movie is slower than a soap opera... and suddenly, Jake decides to become Rambo and kill the zombie.<br /><br />OK, first of all when you're going to make a film you must Decide if its a thriller or a drama! As a drama the movie is watchable. Parents are divorcing & arguing like in real life. And then we have Jake with his closet which totally ruins all the film! I expected to see a BOOGEYMAN similar movie, and instead i watched a drama with some meaningless thriller spots.<br /><br />3 out of 10 just for the well playing parents & descent dialogs. As for the shots with Jake: just ignore them.   \n",
       "4                                                                                                                                                                                                                                                                                                                                                                                                                                                              Petter Mattei's \"Love in the Time of Money\" is a visually stunning film to watch. Mr. Mattei offers us a vivid portrait about human relations. This is a movie that seems to be telling us what money, power and success do to people in the different situations we encounter. <br /><br />This being a variation on the Arthur Schnitzler's play about the same theme, the director transfers the action to the present time New York where all these different characters meet and connect. Each one is connected in one way, or another to the next person, but no one seems to know the previous point of contact. Stylishly, the film has a sophisticated luxurious look. We are taken to see how these people live and the world they live in their own habitat.<br /><br />The only thing one gets out of all these souls in the picture is the different stages of loneliness each one inhabits. A big city is not exactly the best place in which human relations find sincere fulfillment, as one discerns is the case with most of the people we encounter.<br /><br />The acting is good under Mr. Mattei's direction. Steve Buscemi, Rosario Dawson, Carol Kane, Michael Imperioli, Adrian Grenier, and the rest of the talented cast, make these characters come alive.<br /><br />We wish Mr. Mattei good luck and await anxiously for his next work.   \n",
       "\n",
       "  sentiment  \\\n",
       "0  positive   \n",
       "1  positive   \n",
       "2  positive   \n",
       "3  negative   \n",
       "4  positive   \n",
       "\n",
       "                                                                                                                                                                                                                                                                                                                                                                                                                                                                                                                                                                                                                                                                                     review_clean  \n",
       "0                                                            [one, of, the, other, reviewers, has, mentioned, that, after, watching, just, 1, oz, episode, you, will, be, hooked, they, are, right, as, this, is, exactly, what, happened, with, me, the, first, thing, that, struck, me, about, oz, was, its, brutality, and, unflinching, scenes, of, violence, which, set, in, right, from, the, word, go, trust, me, this, is, not, a, show, for, the, faint, hearted, or, timid, this, show, pulls, no, punches, with, regards, to, drugs, sex, or, violence, its, is, hardcore, in, the, classic, use, of, the, word, it, is, called, oz, as, that, is, the, nickname, given, to, the, ...]  \n",
       "1  [a, wonderful, little, production, the, filming, technique, is, very, unassuming, very, old, time, bbc, fashion, and, gives, a, comforting, and, sometimes, discomforting, sense, of, realism, to, the, entire, piece, the, actors, are, extremely, well, chosen, michael, sheen, not, only, has, got, all, the, polari, but, he, has, all, the, voices, down, pat, too, you, can, truly, see, the, seamless, editing, guided, by, the, references, to, williams, diary, entries, not, only, is, it, well, worth, the, watching, but, it, is, a, terrificly, written, and, performed, piece, a, masterful, production, about, one, of, the, great, master, s, of, comedy, and, his, life, ...]  \n",
       "2                                        [i, thought, this, was, a, wonderful, way, to, spend, time, on, a, too, hot, summer, weekend, sitting, in, the, air, conditioned, theater, and, watching, a, light, hearted, comedy, the, plot, is, simplistic, but, the, dialogue, is, witty, and, the, characters, are, likable, even, the, well, bread, suspected, serial, killer, while, some, may, be, disappointed, when, they, realize, this, is, not, match, point, 2, risk, addiction, i, thought, it, was, proof, that, woody, allen, is, still, fully, in, control, of, the, style, many, of, us, have, grown, to, love, this, was, the, most, I, would, laughed, at, one, of, woody, s, ...]  \n",
       "3                                                                     [basically, there, is, a, family, where, a, little, boy, jake, thinks, there, is, a, zombie, in, his, closet, his, parents, are, fighting, all, the, time, this, movie, is, slower, than, a, soap, opera, and, suddenly, jake, decides, to, become, rambo, and, kill, the, zombie, ok, first, of, all, when, you, are, going, to, make, a, film, you, must, decide, if, its, a, thriller, or, a, drama, as, a, drama, the, movie, is, watchable, parents, are, divorcing, arguing, like, in, real, life, and, then, we, have, jake, with, his, closet, which, totally, ruins, all, the, film, i, expected, to, see, a, ...]  \n",
       "4                             [petter, mattei, s, love, in, the, time, of, money, is, a, visually, stunning, film, to, watch, mr, mattei, offers, us, a, vivid, portrait, about, human, relations, this, is, a, movie, that, seems, to, be, telling, us, what, money, power, and, success, do, to, people, in, the, different, situations, we, encounter, this, being, a, variation, on, the, arthur, schnitzler, s, play, about, the, same, theme, the, director, transfers, the, action, to, the, present, time, new, york, where, all, these, different, characters, meet, and, connect, each, one, is, connected, in, one, way, or, another, to, the, next, person, but, no, one, seems, ...]  "
      ]
     },
     "execution_count": 11,
     "metadata": {},
     "output_type": "execute_result"
    }
   ],
   "source": [
    "df.head()"
   ]
  },
  {
   "cell_type": "code",
   "execution_count": null,
   "metadata": {
    "scrolled": false
   },
   "outputs": [],
   "source": []
  },
  {
   "cell_type": "code",
   "execution_count": 12,
   "metadata": {},
   "outputs": [],
   "source": [
    "stop_words=['i',\n",
    " 'me',\n",
    " 'my',\n",
    " 'myself',\n",
    " 'we',\n",
    " 'our',\n",
    " 'ours',\n",
    " 'ourselves',\n",
    " 'you',\n",
    " \"you're\",\n",
    " \"you've\",\n",
    " \"you'll\",\n",
    " \"you'd\",\n",
    " 'your',\n",
    " 'yours',\n",
    " 'yourself',\n",
    " 'yourselves',\n",
    " 'he',\n",
    " 'him',\n",
    " 'his',\n",
    " 'himself',\n",
    " 'she',\n",
    " \"she's\",\n",
    " 'her',\n",
    " 'hers',\n",
    " 'herself',\n",
    " 'it',\n",
    " \"it's\",\n",
    " 'its',\n",
    " 'itself',\n",
    " 'they',\n",
    " 'them',\n",
    " 'their',\n",
    " 'theirs',\n",
    " 'themselves',\n",
    " 'what',\n",
    " 'which',\n",
    " 'who',\n",
    " 'whom',\n",
    " 'this',\n",
    " 'that',\n",
    " \"that'll\",\n",
    " 'these',\n",
    " 'those',\n",
    " 'am',\n",
    " 'is',\n",
    " 'are',\n",
    " 'was',\n",
    " 'were',\n",
    " 'be',\n",
    " 'been',\n",
    " 'being',\n",
    " 'have',\n",
    " 'has',\n",
    " 'had',\n",
    " 'having',\n",
    " 'do',\n",
    " 'does',\n",
    " 'did',\n",
    " 'doing',\n",
    " 'a',\n",
    " 'an',\n",
    " 'the',\n",
    " 'and',\n",
    " 'if',\n",
    " 'or',\n",
    " 'because',\n",
    " 'as',\n",
    " 'until',\n",
    " 'while',\n",
    " 'of',\n",
    " 'at',\n",
    " 'by',\n",
    " 'for',\n",
    " 'with',\n",
    " 'about',\n",
    " 'against',\n",
    " 'between',\n",
    " 'into',\n",
    " 'through',\n",
    " 'during',\n",
    " 'before',\n",
    " 'after',\n",
    " 'above',\n",
    " 'below',\n",
    " 'to',\n",
    " 'from',\n",
    " 'up',\n",
    " 'down',\n",
    " 'in',\n",
    " 'out',\n",
    " 'over',\n",
    " 'under',\n",
    " 'again',\n",
    " 'further',\n",
    " 'then',\n",
    " 'once',\n",
    " 'here',\n",
    " 'there',\n",
    " 'when',\n",
    " 'where',\n",
    " 'why',\n",
    " 'how',\n",
    " 'all',\n",
    " 'any',\n",
    " 'both',\n",
    " 'each',\n",
    " 'few',\n",
    " 'more',\n",
    " 'most',\n",
    " 'other',\n",
    " 'some',\n",
    " 'such',\n",
    " 'only',\n",
    " 'own',\n",
    " 'same',\n",
    " 'so',\n",
    " 'than',\n",
    " 'too',\n",
    " 'very',\n",
    " 's',\n",
    " 't',\n",
    " 'can',\n",
    " 'will',\n",
    " 'just',\n",
    " 'don',\n",
    " \"don't\",\n",
    " 'should',\n",
    " \"should've\",\n",
    " 'now',\n",
    " 'd',\n",
    " 'll',\n",
    " 'm',\n",
    " 'o',\n",
    " 're',\n",
    " 've',\n",
    " 'y',\n",
    " 'ain',\n",
    " 'aren',\n",
    " \"aren't\",\n",
    " 'couldn',\n",
    " \"couldn't\",\n",
    " 'didn',\n",
    " \"didn't\",\n",
    " 'doesn',\n",
    " \"doesn't\",\n",
    " 'hadn',\n",
    " \"hadn't\",\n",
    " 'hasn',\n",
    " \"hasn't\",\n",
    " 'haven',\n",
    " \"haven't\",\n",
    " 'isn',\n",
    " \"isn't\",\n",
    " 'ma',\n",
    " 'mightn',\n",
    " \"mightn't\",\n",
    " 'mustn',\n",
    " \"mustn't\",\n",
    " 'needn',\n",
    " \"needn't\",\n",
    " 'shan',\n",
    " \"shan't\",\n",
    " 'shouldn',\n",
    " \"shouldn't\",\n",
    " 'wasn',\n",
    " \"wasn't\",\n",
    " 'weren',\n",
    " \"weren't\",\n",
    " 'won',\n",
    " \"won't\",\n",
    " 'wouldn',\n",
    " \"wouldn't\"]"
   ]
  },
  {
   "cell_type": "code",
   "execution_count": 13,
   "metadata": {},
   "outputs": [],
   "source": [
    "df['review_clean']=df['review_clean'].apply(lambda x:[i for i in x if i not in stop_words])"
   ]
  },
  {
   "cell_type": "code",
   "execution_count": null,
   "metadata": {},
   "outputs": [],
   "source": []
  },
  {
   "cell_type": "code",
   "execution_count": null,
   "metadata": {},
   "outputs": [],
   "source": []
  },
  {
   "cell_type": "code",
   "execution_count": 14,
   "metadata": {},
   "outputs": [
    {
     "data": {
      "text/plain": [
       "'less'"
      ]
     },
     "execution_count": 14,
     "metadata": {},
     "output_type": "execute_result"
    }
   ],
   "source": [
    "ps.stem(\"less\")"
   ]
  },
  {
   "cell_type": "code",
   "execution_count": 15,
   "metadata": {},
   "outputs": [],
   "source": [
    "df['review_clean_ps']=df['review_clean'].apply(lambda x:[ps.stem(i) for i in x])"
   ]
  },
  {
   "cell_type": "code",
   "execution_count": 16,
   "metadata": {
    "scrolled": true
   },
   "outputs": [],
   "source": [
    "df['review_clean_snow']=df['review_clean'].apply(lambda x:[stemmer.stem(i) for i in x])"
   ]
  },
  {
   "cell_type": "code",
   "execution_count": 17,
   "metadata": {
    "scrolled": true
   },
   "outputs": [
    {
     "data": {
      "text/html": [
       "<div>\n",
       "<style scoped>\n",
       "    .dataframe tbody tr th:only-of-type {\n",
       "        vertical-align: middle;\n",
       "    }\n",
       "\n",
       "    .dataframe tbody tr th {\n",
       "        vertical-align: top;\n",
       "    }\n",
       "\n",
       "    .dataframe thead th {\n",
       "        text-align: right;\n",
       "    }\n",
       "</style>\n",
       "<table border=\"1\" class=\"dataframe\">\n",
       "  <thead>\n",
       "    <tr style=\"text-align: right;\">\n",
       "      <th></th>\n",
       "      <th>review</th>\n",
       "      <th>sentiment</th>\n",
       "      <th>review_clean</th>\n",
       "      <th>review_clean_ps</th>\n",
       "      <th>review_clean_snow</th>\n",
       "    </tr>\n",
       "  </thead>\n",
       "  <tbody>\n",
       "    <tr>\n",
       "      <th>0</th>\n",
       "      <td>One of the other reviewers has mentioned that after watching just 1 Oz episode you'll be hooked. They are right, as this is exactly what happened with me.&lt;br /&gt;&lt;br /&gt;The first thing that struck me about Oz was its brutality and unflinching scenes of violence, which set in right from the word GO. Trust me, this is not a show for the faint hearted or timid. This show pulls no punches with regards to drugs, sex or violence. Its is hardcore, in the classic use of the word.&lt;br /&gt;&lt;br /&gt;It is called OZ as that is the nickname given to the Oswald Maximum Security State Penitentary. It focuses mainly on Emerald City, an experimental section of the prison where all the cells have glass fronts and face inwards, so privacy is not high on the agenda. Em City is home to many..Aryans, Muslims, gangstas, Latinos, Christians, Italians, Irish and more....so scuffles, death stares, dodgy dealings and shady agreements are never far away.&lt;br /&gt;&lt;br /&gt;I would say the main appeal of the show is due to the fact that it goes where other shows wouldn't dare. Forget pretty pictures painted for mainstream audiences, forget charm, forget romance...OZ doesn't mess around. The first episode I ever saw struck me as so nasty it was surreal, I couldn't say I was ready for it, but as I watched more, I developed a taste for Oz, and got accustomed to the high levels of graphic violence. Not just violence, but injustice (crooked guards who'll be sold out for a nickel, inmates who'll kill on order and get away with it, well mannered, middle class inmates being turned into prison bitches due to their lack of street skills or prison experience) Watching Oz, you may become comfortable with what is uncomfortable viewing....thats if you can get in touch with your darker side.</td>\n",
       "      <td>positive</td>\n",
       "      <td>[one, reviewers, mentioned, watching, 1, oz, episode, hooked, right, exactly, happened, first, thing, struck, oz, brutality, unflinching, scenes, violence, set, right, word, go, trust, not, show, faint, hearted, timid, show, pulls, no, punches, regards, drugs, sex, violence, hardcore, classic, use, word, called, oz, nickname, given, oswald, maximum, security, state, penitentary, focuses, mainly, on, emerald, city, experimental, section, prison, cells, glass, fronts, face, inwards, privacy, not, high, on, agenda, city, home, many, aryans, muslims, gangstas, latinos, christians, italians, irish, scuffles, death, stares, dodgy, dealings, shady, agreements, never, far, away, would, say, main, appeal, show, due, fact, goes, shows, would, not, dare, ...]</td>\n",
       "      <td>[one, review, mention, watch, 1, oz, episod, hook, right, exactli, happen, first, thing, struck, oz, brutal, unflinch, scene, violenc, set, right, word, go, trust, not, show, faint, heart, timid, show, pull, no, punch, regard, drug, sex, violenc, hardcor, classic, use, word, call, oz, nicknam, given, oswald, maximum, secur, state, penitentari, focus, mainli, on, emerald, citi, experiment, section, prison, cell, glass, front, face, inward, privaci, not, high, on, agenda, citi, home, mani, aryan, muslim, gangsta, latino, christian, italian, irish, scuffl, death, stare, dodgi, deal, shadi, agreement, never, far, away, would, say, main, appeal, show, due, fact, goe, show, would, not, dare, ...]</td>\n",
       "      <td>[one, review, mention, watch, 1, oz, episod, hook, right, exact, happen, first, thing, struck, oz, brutal, unflinch, scene, violenc, set, right, word, go, trust, not, show, faint, heart, timid, show, pull, no, punch, regard, drug, sex, violenc, hardcor, classic, use, word, call, oz, nicknam, given, oswald, maximum, secur, state, penitentari, focus, main, on, emerald, citi, experiment, section, prison, cell, glass, front, face, inward, privaci, not, high, on, agenda, citi, home, mani, aryan, muslim, gangsta, latino, christian, italian, irish, scuffl, death, stare, dodgi, deal, shadi, agreement, never, far, away, would, say, main, appeal, show, due, fact, goe, show, would, not, dare, ...]</td>\n",
       "    </tr>\n",
       "    <tr>\n",
       "      <th>1</th>\n",
       "      <td>A wonderful little production. &lt;br /&gt;&lt;br /&gt;The filming technique is very unassuming- very old-time-BBC fashion and gives a comforting, and sometimes discomforting, sense of realism to the entire piece. &lt;br /&gt;&lt;br /&gt;The actors are extremely well chosen- Michael Sheen not only \"has got all the polari\" but he has all the voices down pat too! You can truly see the seamless editing guided by the references to Williams' diary entries, not only is it well worth the watching but it is a terrificly written and performed piece. A masterful production about one of the great master's of comedy and his life. &lt;br /&gt;&lt;br /&gt;The realism really comes home with the little things: the fantasy of the guard which, rather than use the traditional 'dream' techniques remains solid then disappears. It plays on our knowledge and our senses, particularly with the scenes concerning Orton and Halliwell and the sets (particularly of their flat with Halliwell's murals decorating every surface) are terribly well done.</td>\n",
       "      <td>positive</td>\n",
       "      <td>[wonderful, little, production, filming, technique, unassuming, old, time, bbc, fashion, gives, comforting, sometimes, discomforting, sense, realism, entire, piece, actors, extremely, well, chosen, michael, sheen, not, got, polari, but, voices, pat, truly, see, seamless, editing, guided, references, williams, diary, entries, not, well, worth, watching, but, terrificly, written, performed, piece, masterful, production, one, great, master, comedy, life, realism, really, comes, home, little, things, fantasy, guard, rather, use, traditional, dream, techniques, remains, solid, disappears, plays, on, knowledge, senses, particularly, scenes, concerning, orton, halliwell, sets, particularly, flat, halliwell, murals, decorating, every, surface, terribly, well, done]</td>\n",
       "      <td>[wonder, littl, product, film, techniqu, unassum, old, time, bbc, fashion, give, comfort, sometim, discomfort, sens, realism, entir, piec, actor, extrem, well, chosen, michael, sheen, not, got, polari, but, voic, pat, truli, see, seamless, edit, guid, refer, william, diari, entri, not, well, worth, watch, but, terrificli, written, perform, piec, master, product, one, great, master, comedi, life, realism, realli, come, home, littl, thing, fantasi, guard, rather, use, tradit, dream, techniqu, remain, solid, disappear, play, on, knowledg, sens, particularli, scene, concern, orton, halliwel, set, particularli, flat, halliwel, mural, decor, everi, surfac, terribl, well, done]</td>\n",
       "      <td>[wonder, littl, product, film, techniqu, unassum, old, time, bbc, fashion, give, comfort, sometim, discomfort, sens, realism, entir, piec, actor, extrem, well, chosen, michael, sheen, not, got, polari, but, voic, pat, truli, see, seamless, edit, guid, refer, william, diari, entri, not, well, worth, watch, but, terrif, written, perform, piec, master, product, one, great, master, comedi, life, realism, realli, come, home, littl, thing, fantasi, guard, rather, use, tradit, dream, techniqu, remain, solid, disappear, play, on, knowledg, sens, particular, scene, concern, orton, halliwel, set, particular, flat, halliwel, mural, decor, everi, surfac, terribl, well, done]</td>\n",
       "    </tr>\n",
       "    <tr>\n",
       "      <th>2</th>\n",
       "      <td>I thought this was a wonderful way to spend time on a too hot summer weekend, sitting in the air conditioned theater and watching a light-hearted comedy. The plot is simplistic, but the dialogue is witty and the characters are likable (even the well bread suspected serial killer). While some may be disappointed when they realize this is not Match Point 2: Risk Addiction, I thought it was proof that Woody Allen is still fully in control of the style many of us have grown to love.&lt;br /&gt;&lt;br /&gt;This was the most I'd laughed at one of Woody's comedies in years (dare I say a decade?). While I've never been impressed with Scarlet Johanson, in this she managed to tone down her \"sexy\" image and jumped right into a average, but spirited young woman.&lt;br /&gt;&lt;br /&gt;This may not be the crown jewel of his career, but it was wittier than \"Devil Wears Prada\" and more interesting than \"Superman\" a great comedy to go see with friends.</td>\n",
       "      <td>positive</td>\n",
       "      <td>[thought, wonderful, way, spend, time, on, hot, summer, weekend, sitting, air, conditioned, theater, watching, light, hearted, comedy, plot, simplistic, but, dialogue, witty, characters, likable, even, well, bread, suspected, serial, killer, may, disappointed, realize, not, match, point, 2, risk, addiction, thought, proof, woody, allen, still, fully, control, style, many, us, grown, love, I, would, laughed, one, woody, comedies, years, dare, say, decade, I, never, impressed, scarlet, johanson, managed, tone, sexy, image, jumped, right, average, but, spirited, young, woman, may, not, crown, jewel, career, but, wittier, devil, wears, prada, interesting, superman, great, comedy, go, see, friends]</td>\n",
       "      <td>[thought, wonder, way, spend, time, on, hot, summer, weekend, sit, air, condit, theater, watch, light, heart, comedi, plot, simplist, but, dialogu, witti, charact, likabl, even, well, bread, suspect, serial, killer, may, disappoint, realiz, not, match, point, 2, risk, addict, thought, proof, woodi, allen, still, fulli, control, style, mani, us, grown, love, I, would, laugh, one, woodi, comedi, year, dare, say, decad, I, never, impress, scarlet, johanson, manag, tone, sexi, imag, jump, right, averag, but, spirit, young, woman, may, not, crown, jewel, career, but, wittier, devil, wear, prada, interest, superman, great, comedi, go, see, friend]</td>\n",
       "      <td>[thought, wonder, way, spend, time, on, hot, summer, weekend, sit, air, condit, theater, watch, light, heart, comedi, plot, simplist, but, dialogu, witti, charact, likabl, even, well, bread, suspect, serial, killer, may, disappoint, realiz, not, match, point, 2, risk, addict, thought, proof, woodi, allen, still, fulli, control, style, mani, us, grown, love, i, would, laugh, one, woodi, comedi, year, dare, say, decad, i, never, impress, scarlet, johanson, manag, tone, sexi, imag, jump, right, averag, but, spirit, young, woman, may, not, crown, jewel, career, but, wittier, devil, wear, prada, interest, superman, great, comedi, go, see, friend]</td>\n",
       "    </tr>\n",
       "    <tr>\n",
       "      <th>3</th>\n",
       "      <td>Basically there's a family where a little boy (Jake) thinks there's a zombie in his closet &amp; his parents are fighting all the time.&lt;br /&gt;&lt;br /&gt;This movie is slower than a soap opera... and suddenly, Jake decides to become Rambo and kill the zombie.&lt;br /&gt;&lt;br /&gt;OK, first of all when you're going to make a film you must Decide if its a thriller or a drama! As a drama the movie is watchable. Parents are divorcing &amp; arguing like in real life. And then we have Jake with his closet which totally ruins all the film! I expected to see a BOOGEYMAN similar movie, and instead i watched a drama with some meaningless thriller spots.&lt;br /&gt;&lt;br /&gt;3 out of 10 just for the well playing parents &amp; descent dialogs. As for the shots with Jake: just ignore them.</td>\n",
       "      <td>negative</td>\n",
       "      <td>[basically, family, little, boy, jake, thinks, zombie, closet, parents, fighting, time, movie, slower, soap, opera, suddenly, jake, decides, become, rambo, kill, zombie, ok, first, going, make, film, must, decide, thriller, drama, drama, movie, watchable, parents, divorcing, arguing, like, real, life, jake, closet, totally, ruins, film, expected, see, boogeyman, similar, movie, instead, watched, drama, meaningless, thriller, spots, 3, 10, well, playing, parents, descent, dialogs, shots, jake, ignore]</td>\n",
       "      <td>[basic, famili, littl, boy, jake, think, zombi, closet, parent, fight, time, movi, slower, soap, opera, suddenli, jake, decid, becom, rambo, kill, zombi, ok, first, go, make, film, must, decid, thriller, drama, drama, movi, watchabl, parent, divorc, argu, like, real, life, jake, closet, total, ruin, film, expect, see, boogeyman, similar, movi, instead, watch, drama, meaningless, thriller, spot, 3, 10, well, play, parent, descent, dialog, shot, jake, ignor]</td>\n",
       "      <td>[basic, famili, littl, boy, jake, think, zombi, closet, parent, fight, time, movi, slower, soap, opera, sudden, jake, decid, becom, rambo, kill, zombi, ok, first, go, make, film, must, decid, thriller, drama, drama, movi, watchabl, parent, divorc, argu, like, real, life, jake, closet, total, ruin, film, expect, see, boogeyman, similar, movi, instead, watch, drama, meaningless, thriller, spot, 3, 10, well, play, parent, descent, dialog, shot, jake, ignor]</td>\n",
       "    </tr>\n",
       "    <tr>\n",
       "      <th>4</th>\n",
       "      <td>Petter Mattei's \"Love in the Time of Money\" is a visually stunning film to watch. Mr. Mattei offers us a vivid portrait about human relations. This is a movie that seems to be telling us what money, power and success do to people in the different situations we encounter. &lt;br /&gt;&lt;br /&gt;This being a variation on the Arthur Schnitzler's play about the same theme, the director transfers the action to the present time New York where all these different characters meet and connect. Each one is connected in one way, or another to the next person, but no one seems to know the previous point of contact. Stylishly, the film has a sophisticated luxurious look. We are taken to see how these people live and the world they live in their own habitat.&lt;br /&gt;&lt;br /&gt;The only thing one gets out of all these souls in the picture is the different stages of loneliness each one inhabits. A big city is not exactly the best place in which human relations find sincere fulfillment, as one discerns is the case with most of the people we encounter.&lt;br /&gt;&lt;br /&gt;The acting is good under Mr. Mattei's direction. Steve Buscemi, Rosario Dawson, Carol Kane, Michael Imperioli, Adrian Grenier, and the rest of the talented cast, make these characters come alive.&lt;br /&gt;&lt;br /&gt;We wish Mr. Mattei good luck and await anxiously for his next work.</td>\n",
       "      <td>positive</td>\n",
       "      <td>[petter, mattei, love, time, money, visually, stunning, film, watch, mr, mattei, offers, us, vivid, portrait, human, relations, movie, seems, telling, us, money, power, success, people, different, situations, encounter, variation, on, arthur, schnitzler, play, theme, director, transfers, action, present, time, new, york, different, characters, meet, connect, one, connected, one, way, another, next, person, but, no, one, seems, know, previous, point, contact, stylishly, film, sophisticated, luxurious, look, taken, see, people, live, world, live, habitat, thing, one, gets, souls, picture, different, stages, loneliness, one, inhabits, big, city, not, exactly, best, place, human, relations, find, sincere, fulfillment, one, discerns, case, people, encounter, acting, good, ...]</td>\n",
       "      <td>[petter, mattei, love, time, money, visual, stun, film, watch, mr, mattei, offer, us, vivid, portrait, human, relat, movi, seem, tell, us, money, power, success, peopl, differ, situat, encount, variat, on, arthur, schnitzler, play, theme, director, transfer, action, present, time, new, york, differ, charact, meet, connect, one, connect, one, way, anoth, next, person, but, no, one, seem, know, previou, point, contact, stylishli, film, sophist, luxuri, look, taken, see, peopl, live, world, live, habitat, thing, one, get, soul, pictur, differ, stage, loneli, one, inhabit, big, citi, not, exactli, best, place, human, relat, find, sincer, fulfil, one, discern, case, peopl, encount, act, good, ...]</td>\n",
       "      <td>[petter, mattei, love, time, money, visual, stun, film, watch, mr, mattei, offer, us, vivid, portrait, human, relat, movi, seem, tell, us, money, power, success, peopl, differ, situat, encount, variat, on, arthur, schnitzler, play, theme, director, transfer, action, present, time, new, york, differ, charact, meet, connect, one, connect, one, way, anoth, next, person, but, no, one, seem, know, previous, point, contact, stylish, film, sophist, luxuri, look, taken, see, peopl, live, world, live, habitat, thing, one, get, soul, pictur, differ, stage, loneli, one, inhabit, big, citi, not, exact, best, place, human, relat, find, sincer, fulfil, one, discern, case, peopl, encount, act, good, ...]</td>\n",
       "    </tr>\n",
       "    <tr>\n",
       "      <th>5</th>\n",
       "      <td>Probably my all-time favorite movie, a story of selflessness, sacrifice and dedication to a noble cause, but it's not preachy or boring. It just never gets old, despite my having seen it some 15 or more times in the last 25 years. Paul Lukas' performance brings tears to my eyes, and Bette Davis, in one of her very few truly sympathetic roles, is a delight. The kids are, as grandma says, more like \"dressed-up midgets\" than children, but that only makes them more fun to watch. And the mother's slow awakening to what's happening in the world and under her own roof is believable and startling. If I had a dozen thumbs, they'd all be \"up\" for this movie.</td>\n",
       "      <td>positive</td>\n",
       "      <td>[probably, time, favorite, movie, story, selflessness, sacrifice, dedication, noble, but, not, preachy, boring, never, gets, old, despite, seen, 15, times, last, 25, years, paul, lukas, performance, brings, tears, eyes, bette, davis, one, truly, sympathetic, roles, delight, kids, grandma, says, like, dressed, midgets, children, but, makes, fun, watch, mother, slow, awakening, happening, world, roof, believable, startling, dozen, thumbs, would, movie]</td>\n",
       "      <td>[probabl, time, favorit, movi, stori, selfless, sacrific, dedic, nobl, but, not, preachi, bore, never, get, old, despit, seen, 15, time, last, 25, year, paul, luka, perform, bring, tear, eye, bett, davi, one, truli, sympathet, role, delight, kid, grandma, say, like, dress, midget, children, but, make, fun, watch, mother, slow, awaken, happen, world, roof, believ, startl, dozen, thumb, would, movi]</td>\n",
       "      <td>[probabl, time, favorit, movi, stori, selfless, sacrific, dedic, nobl, but, not, preachi, bore, never, get, old, despit, seen, 15, time, last, 25, year, paul, luka, perform, bring, tear, eye, bett, davi, one, truli, sympathet, role, delight, kid, grandma, say, like, dress, midget, children, but, make, fun, watch, mother, slow, awaken, happen, world, roof, believ, startl, dozen, thumb, would, movi]</td>\n",
       "    </tr>\n",
       "    <tr>\n",
       "      <th>6</th>\n",
       "      <td>I sure would like to see a resurrection of a up dated Seahunt series with the tech they have today it would bring back the kid excitement in me.I grew up on black and white TV and Seahunt with Gunsmoke were my hero's every week.You have my vote for a comeback of a new sea hunt.We need a change of pace in TV and this would work for a world of under water adventure.Oh by the way thank you for an outlet like this to view many viewpoints about TV and the many movies.So any ole way I believe I've got what I wanna say.Would be nice to read some more plus points about sea hunt.If my rhymes would be 10 lines would you let me submit,or leave me out to be in doubt and have me to quit,If this is so then I must go so lets do it.</td>\n",
       "      <td>positive</td>\n",
       "      <td>[sure, would, like, see, resurrection, dated, seahunt, series, tech, today, would, bring, back, kid, excitement, grew, on, black, white, tv, seahunt, gunsmoke, hero, every, week, vote, comeback, new, sea, hunt, need, change, pace, tv, would, work, world, water, adventure, oh, way, thank, outlet, like, view, many, viewpoints, tv, many, movies, ole, way, believe, I, got, want, say, would, nice, read, plus, points, sea, hunt, rhymes, would, 10, lines, would, let, submit, leave, doubt, quit, must, go, let, us]</td>\n",
       "      <td>[sure, would, like, see, resurrect, date, seahunt, seri, tech, today, would, bring, back, kid, excit, grew, on, black, white, tv, seahunt, gunsmok, hero, everi, week, vote, comeback, new, sea, hunt, need, chang, pace, tv, would, work, world, water, adventur, oh, way, thank, outlet, like, view, mani, viewpoint, tv, mani, movi, ole, way, believ, I, got, want, say, would, nice, read, plu, point, sea, hunt, rhyme, would, 10, line, would, let, submit, leav, doubt, quit, must, go, let, us]</td>\n",
       "      <td>[sure, would, like, see, resurrect, date, seahunt, seri, tech, today, would, bring, back, kid, excit, grew, on, black, white, tv, seahunt, gunsmok, hero, everi, week, vote, comeback, new, sea, hunt, need, chang, pace, tv, would, work, world, water, adventur, oh, way, thank, outlet, like, view, mani, viewpoint, tv, mani, movi, ole, way, believ, i, got, want, say, would, nice, read, plus, point, sea, hunt, rhyme, would, 10, line, would, let, submit, leav, doubt, quit, must, go, let, us]</td>\n",
       "    </tr>\n",
       "    <tr>\n",
       "      <th>7</th>\n",
       "      <td>This show was an amazing, fresh &amp; innovative idea in the 70's when it first aired. The first 7 or 8 years were brilliant, but things dropped off after that. By 1990, the show was not really funny anymore, and it's continued its decline further to the complete waste of time it is today.&lt;br /&gt;&lt;br /&gt;It's truly disgraceful how far this show has fallen. The writing is painfully bad, the performances are almost as bad - if not for the mildly entertaining respite of the guest-hosts, this show probably wouldn't still be on the air. I find it so hard to believe that the same creator that hand-selected the original cast also chose the band of hacks that followed. How can one recognize such brilliance and then see fit to replace it with such mediocrity? I felt I must give 2 stars out of respect for the original cast that made this show such a huge success. As it is now, the show is just awful. I can't believe it's still on the air.</td>\n",
       "      <td>negative</td>\n",
       "      <td>[show, amazing, fresh, innovative, idea, 70, first, aired, first, 7, 8, years, brilliant, but, things, dropped, off, 1990, show, not, really, funny, anymore, continued, decline, complete, waste, time, today, truly, disgraceful, far, show, fallen, writing, painfully, bad, performances, almost, bad, not, mildly, entertaining, respite, guest, hosts, show, probably, would, not, still, on, air, find, hard, believe, creator, hand, selected, original, cast, also, chose, band, hacks, followed, one, recognize, brilliance, see, fit, replace, mediocrity, felt, must, give, 2, stars, respect, original, cast, made, show, huge, success, show, awful, not, believe, still, on, air]</td>\n",
       "      <td>[show, amaz, fresh, innov, idea, 70, first, air, first, 7, 8, year, brilliant, but, thing, drop, off, 1990, show, not, realli, funni, anymor, continu, declin, complet, wast, time, today, truli, disgrac, far, show, fallen, write, pain, bad, perform, almost, bad, not, mildli, entertain, respit, guest, host, show, probabl, would, not, still, on, air, find, hard, believ, creator, hand, select, origin, cast, also, chose, band, hack, follow, one, recogn, brillianc, see, fit, replac, mediocr, felt, must, give, 2, star, respect, origin, cast, made, show, huge, success, show, aw, not, believ, still, on, air]</td>\n",
       "      <td>[show, amaz, fresh, innov, idea, 70, first, air, first, 7, 8, year, brilliant, but, thing, drop, off, 1990, show, not, realli, funni, anymor, continu, declin, complet, wast, time, today, truli, disgrac, far, show, fallen, write, pain, bad, perform, almost, bad, not, mild, entertain, respit, guest, host, show, probabl, would, not, still, on, air, find, hard, believ, creator, hand, select, origin, cast, also, chose, band, hack, follow, one, recogn, brillianc, see, fit, replac, mediocr, felt, must, give, 2, star, respect, origin, cast, made, show, huge, success, show, aw, not, believ, still, on, air]</td>\n",
       "    </tr>\n",
       "    <tr>\n",
       "      <th>8</th>\n",
       "      <td>Encouraged by the positive comments about this film on here I was looking forward to watching this film. Bad mistake. I've seen 950+ films and this is truly one of the worst of them - it's awful in almost every way: editing, pacing, storyline, 'acting,' soundtrack (the film's only song - a lame country tune - is played no less than four times). The film looks cheap and nasty and is boring in the extreme. Rarely have I been so happy to see the end credits of a film. &lt;br /&gt;&lt;br /&gt;The only thing that prevents me giving this a 1-score is Harvey Keitel - while this is far from his best performance he at least seems to be making a bit of an effort. One for Keitel obsessives only.</td>\n",
       "      <td>negative</td>\n",
       "      <td>[encouraged, positive, comments, film, on, looking, forward, watching, film, bad, mistake, I, seen, 950, films, truly, one, worst, awful, almost, every, way, editing, pacing, storyline, acting, soundtrack, film, song, lame, country, tune, played, no, less, four, times, film, looks, cheap, nasty, boring, extreme, rarely, happy, see, end, credits, film, thing, prevents, giving, 1, score, harvey, keitel, far, best, performance, least, seems, making, bit, effort, one, keitel, obsessives]</td>\n",
       "      <td>[encourag, posit, comment, film, on, look, forward, watch, film, bad, mistak, I, seen, 950, film, truli, one, worst, aw, almost, everi, way, edit, pace, storylin, act, soundtrack, film, song, lame, countri, tune, play, no, less, four, time, film, look, cheap, nasti, bore, extrem, rare, happi, see, end, credit, film, thing, prevent, give, 1, score, harvey, keitel, far, best, perform, least, seem, make, bit, effort, one, keitel, obsess]</td>\n",
       "      <td>[encourag, posit, comment, film, on, look, forward, watch, film, bad, mistak, i, seen, 950, film, truli, one, worst, aw, almost, everi, way, edit, pace, storylin, act, soundtrack, film, song, lame, countri, tune, play, no, less, four, time, film, look, cheap, nasti, bore, extrem, rare, happi, see, end, credit, film, thing, prevent, give, 1, score, harvey, keitel, far, best, perform, least, seem, make, bit, effort, one, keitel, obsess]</td>\n",
       "    </tr>\n",
       "    <tr>\n",
       "      <th>9</th>\n",
       "      <td>If you like original gut wrenching laughter you will like this movie. If you are young or old then you will love this movie, hell even my mom liked it.&lt;br /&gt;&lt;br /&gt;Great Camp!!!</td>\n",
       "      <td>positive</td>\n",
       "      <td>[like, original, gut, wrenching, laughter, like, movie, young, old, love, movie, hell, even, mom, liked, great, camp]</td>\n",
       "      <td>[like, origin, gut, wrench, laughter, like, movi, young, old, love, movi, hell, even, mom, like, great, camp]</td>\n",
       "      <td>[like, origin, gut, wrench, laughter, like, movi, young, old, love, movi, hell, even, mom, like, great, camp]</td>\n",
       "    </tr>\n",
       "  </tbody>\n",
       "</table>\n",
       "</div>"
      ],
      "text/plain": [
       "                                                                                                                                                                                                                                                                                                                                                                                                                                                                                                                                                                                                                                                                                                                                                                                                                                                                                                                                                                                                                                                                                                                                                                                                                                                                                                                                                                                                                                                                                                                                                                                                                                                                                                                                                                                                                              review  \\\n",
       "0  One of the other reviewers has mentioned that after watching just 1 Oz episode you'll be hooked. They are right, as this is exactly what happened with me.<br /><br />The first thing that struck me about Oz was its brutality and unflinching scenes of violence, which set in right from the word GO. Trust me, this is not a show for the faint hearted or timid. This show pulls no punches with regards to drugs, sex or violence. Its is hardcore, in the classic use of the word.<br /><br />It is called OZ as that is the nickname given to the Oswald Maximum Security State Penitentary. It focuses mainly on Emerald City, an experimental section of the prison where all the cells have glass fronts and face inwards, so privacy is not high on the agenda. Em City is home to many..Aryans, Muslims, gangstas, Latinos, Christians, Italians, Irish and more....so scuffles, death stares, dodgy dealings and shady agreements are never far away.<br /><br />I would say the main appeal of the show is due to the fact that it goes where other shows wouldn't dare. Forget pretty pictures painted for mainstream audiences, forget charm, forget romance...OZ doesn't mess around. The first episode I ever saw struck me as so nasty it was surreal, I couldn't say I was ready for it, but as I watched more, I developed a taste for Oz, and got accustomed to the high levels of graphic violence. Not just violence, but injustice (crooked guards who'll be sold out for a nickel, inmates who'll kill on order and get away with it, well mannered, middle class inmates being turned into prison bitches due to their lack of street skills or prison experience) Watching Oz, you may become comfortable with what is uncomfortable viewing....thats if you can get in touch with your darker side.   \n",
       "1                                                                                                                                                                                                                                                                                                                                                                                                                                                                                                                                                                                                                                                                                                                                                                                             A wonderful little production. <br /><br />The filming technique is very unassuming- very old-time-BBC fashion and gives a comforting, and sometimes discomforting, sense of realism to the entire piece. <br /><br />The actors are extremely well chosen- Michael Sheen not only \"has got all the polari\" but he has all the voices down pat too! You can truly see the seamless editing guided by the references to Williams' diary entries, not only is it well worth the watching but it is a terrificly written and performed piece. A masterful production about one of the great master's of comedy and his life. <br /><br />The realism really comes home with the little things: the fantasy of the guard which, rather than use the traditional 'dream' techniques remains solid then disappears. It plays on our knowledge and our senses, particularly with the scenes concerning Orton and Halliwell and the sets (particularly of their flat with Halliwell's murals decorating every surface) are terribly well done.   \n",
       "2                                                                                                                                                                                                                                                                                                                                                                                                                                                                                                                                                                                                                                                                                                                                                                                                                                                                     I thought this was a wonderful way to spend time on a too hot summer weekend, sitting in the air conditioned theater and watching a light-hearted comedy. The plot is simplistic, but the dialogue is witty and the characters are likable (even the well bread suspected serial killer). While some may be disappointed when they realize this is not Match Point 2: Risk Addiction, I thought it was proof that Woody Allen is still fully in control of the style many of us have grown to love.<br /><br />This was the most I'd laughed at one of Woody's comedies in years (dare I say a decade?). While I've never been impressed with Scarlet Johanson, in this she managed to tone down her \"sexy\" image and jumped right into a average, but spirited young woman.<br /><br />This may not be the crown jewel of his career, but it was wittier than \"Devil Wears Prada\" and more interesting than \"Superman\" a great comedy to go see with friends.   \n",
       "3                                                                                                                                                                                                                                                                                                                                                                                                                                                                                                                                                                                                                                                                                                                                                                                                                                                                                                                                                                                                                                                       Basically there's a family where a little boy (Jake) thinks there's a zombie in his closet & his parents are fighting all the time.<br /><br />This movie is slower than a soap opera... and suddenly, Jake decides to become Rambo and kill the zombie.<br /><br />OK, first of all when you're going to make a film you must Decide if its a thriller or a drama! As a drama the movie is watchable. Parents are divorcing & arguing like in real life. And then we have Jake with his closet which totally ruins all the film! I expected to see a BOOGEYMAN similar movie, and instead i watched a drama with some meaningless thriller spots.<br /><br />3 out of 10 just for the well playing parents & descent dialogs. As for the shots with Jake: just ignore them.   \n",
       "4                                                                                                                                                                                                                                                                                                                                                                                                                                                              Petter Mattei's \"Love in the Time of Money\" is a visually stunning film to watch. Mr. Mattei offers us a vivid portrait about human relations. This is a movie that seems to be telling us what money, power and success do to people in the different situations we encounter. <br /><br />This being a variation on the Arthur Schnitzler's play about the same theme, the director transfers the action to the present time New York where all these different characters meet and connect. Each one is connected in one way, or another to the next person, but no one seems to know the previous point of contact. Stylishly, the film has a sophisticated luxurious look. We are taken to see how these people live and the world they live in their own habitat.<br /><br />The only thing one gets out of all these souls in the picture is the different stages of loneliness each one inhabits. A big city is not exactly the best place in which human relations find sincere fulfillment, as one discerns is the case with most of the people we encounter.<br /><br />The acting is good under Mr. Mattei's direction. Steve Buscemi, Rosario Dawson, Carol Kane, Michael Imperioli, Adrian Grenier, and the rest of the talented cast, make these characters come alive.<br /><br />We wish Mr. Mattei good luck and await anxiously for his next work.   \n",
       "5                                                                                                                                                                                                                                                                                                                                                                                                                                                                                                                                                                                                                                                                                                                                                                                                                                                                                                                                                                                                                                                                                                                                                   Probably my all-time favorite movie, a story of selflessness, sacrifice and dedication to a noble cause, but it's not preachy or boring. It just never gets old, despite my having seen it some 15 or more times in the last 25 years. Paul Lukas' performance brings tears to my eyes, and Bette Davis, in one of her very few truly sympathetic roles, is a delight. The kids are, as grandma says, more like \"dressed-up midgets\" than children, but that only makes them more fun to watch. And the mother's slow awakening to what's happening in the world and under her own roof is believable and startling. If I had a dozen thumbs, they'd all be \"up\" for this movie.   \n",
       "6                                                                                                                                                                                                                                                                                                                                                                                                                                                                                                                                                                                                                                                                                                                                                                                                                                                                                                                                                                                                                                                                             I sure would like to see a resurrection of a up dated Seahunt series with the tech they have today it would bring back the kid excitement in me.I grew up on black and white TV and Seahunt with Gunsmoke were my hero's every week.You have my vote for a comeback of a new sea hunt.We need a change of pace in TV and this would work for a world of under water adventure.Oh by the way thank you for an outlet like this to view many viewpoints about TV and the many movies.So any ole way I believe I've got what I wanna say.Would be nice to read some more plus points about sea hunt.If my rhymes would be 10 lines would you let me submit,or leave me out to be in doubt and have me to quit,If this is so then I must go so lets do it.   \n",
       "7                                                                                                                                                                                                                                                                                                                                                                                                                                                                                                                                                                                                                                                                                                                                                                                                                                                             This show was an amazing, fresh & innovative idea in the 70's when it first aired. The first 7 or 8 years were brilliant, but things dropped off after that. By 1990, the show was not really funny anymore, and it's continued its decline further to the complete waste of time it is today.<br /><br />It's truly disgraceful how far this show has fallen. The writing is painfully bad, the performances are almost as bad - if not for the mildly entertaining respite of the guest-hosts, this show probably wouldn't still be on the air. I find it so hard to believe that the same creator that hand-selected the original cast also chose the band of hacks that followed. How can one recognize such brilliance and then see fit to replace it with such mediocrity? I felt I must give 2 stars out of respect for the original cast that made this show such a huge success. As it is now, the show is just awful. I can't believe it's still on the air.   \n",
       "8                                                                                                                                                                                                                                                                                                                                                                                                                                                                                                                                                                                                                                                                                                                                                                                                                                                                                                                                                                                                                                                                                                                          Encouraged by the positive comments about this film on here I was looking forward to watching this film. Bad mistake. I've seen 950+ films and this is truly one of the worst of them - it's awful in almost every way: editing, pacing, storyline, 'acting,' soundtrack (the film's only song - a lame country tune - is played no less than four times). The film looks cheap and nasty and is boring in the extreme. Rarely have I been so happy to see the end credits of a film. <br /><br />The only thing that prevents me giving this a 1-score is Harvey Keitel - while this is far from his best performance he at least seems to be making a bit of an effort. One for Keitel obsessives only.   \n",
       "9                                                                                                                                                                                                                                                                                                                                                                                                                                                                                                                                                                                                                                                                                                                                                                                                                                                                                                                                                                                                                                                                                                                                                                                                                                                                                                                                                                                                                                                                                                                                                                                                                                                   If you like original gut wrenching laughter you will like this movie. If you are young or old then you will love this movie, hell even my mom liked it.<br /><br />Great Camp!!!   \n",
       "\n",
       "  sentiment  \\\n",
       "0  positive   \n",
       "1  positive   \n",
       "2  positive   \n",
       "3  negative   \n",
       "4  positive   \n",
       "5  positive   \n",
       "6  positive   \n",
       "7  negative   \n",
       "8  negative   \n",
       "9  positive   \n",
       "\n",
       "                                                                                                                                                                                                                                                                                                                                                                                                                                                                                                                                                                                                                                                                                                                                                                                                     review_clean  \\\n",
       "0                          [one, reviewers, mentioned, watching, 1, oz, episode, hooked, right, exactly, happened, first, thing, struck, oz, brutality, unflinching, scenes, violence, set, right, word, go, trust, not, show, faint, hearted, timid, show, pulls, no, punches, regards, drugs, sex, violence, hardcore, classic, use, word, called, oz, nickname, given, oswald, maximum, security, state, penitentary, focuses, mainly, on, emerald, city, experimental, section, prison, cells, glass, fronts, face, inwards, privacy, not, high, on, agenda, city, home, many, aryans, muslims, gangstas, latinos, christians, italians, irish, scuffles, death, stares, dodgy, dealings, shady, agreements, never, far, away, would, say, main, appeal, show, due, fact, goes, shows, would, not, dare, ...]   \n",
       "1                 [wonderful, little, production, filming, technique, unassuming, old, time, bbc, fashion, gives, comforting, sometimes, discomforting, sense, realism, entire, piece, actors, extremely, well, chosen, michael, sheen, not, got, polari, but, voices, pat, truly, see, seamless, editing, guided, references, williams, diary, entries, not, well, worth, watching, but, terrificly, written, performed, piece, masterful, production, one, great, master, comedy, life, realism, really, comes, home, little, things, fantasy, guard, rather, use, traditional, dream, techniques, remains, solid, disappears, plays, on, knowledge, senses, particularly, scenes, concerning, orton, halliwell, sets, particularly, flat, halliwell, murals, decorating, every, surface, terribly, well, done]   \n",
       "2                                                                                  [thought, wonderful, way, spend, time, on, hot, summer, weekend, sitting, air, conditioned, theater, watching, light, hearted, comedy, plot, simplistic, but, dialogue, witty, characters, likable, even, well, bread, suspected, serial, killer, may, disappointed, realize, not, match, point, 2, risk, addiction, thought, proof, woody, allen, still, fully, control, style, many, us, grown, love, I, would, laughed, one, woody, comedies, years, dare, say, decade, I, never, impressed, scarlet, johanson, managed, tone, sexy, image, jumped, right, average, but, spirited, young, woman, may, not, crown, jewel, career, but, wittier, devil, wears, prada, interesting, superman, great, comedy, go, see, friends]   \n",
       "3                                                                                                                                                                                                                                                                                       [basically, family, little, boy, jake, thinks, zombie, closet, parents, fighting, time, movie, slower, soap, opera, suddenly, jake, decides, become, rambo, kill, zombie, ok, first, going, make, film, must, decide, thriller, drama, drama, movie, watchable, parents, divorcing, arguing, like, real, life, jake, closet, totally, ruins, film, expected, see, boogeyman, similar, movie, instead, watched, drama, meaningless, thriller, spots, 3, 10, well, playing, parents, descent, dialogs, shots, jake, ignore]   \n",
       "4  [petter, mattei, love, time, money, visually, stunning, film, watch, mr, mattei, offers, us, vivid, portrait, human, relations, movie, seems, telling, us, money, power, success, people, different, situations, encounter, variation, on, arthur, schnitzler, play, theme, director, transfers, action, present, time, new, york, different, characters, meet, connect, one, connected, one, way, another, next, person, but, no, one, seems, know, previous, point, contact, stylishly, film, sophisticated, luxurious, look, taken, see, people, live, world, live, habitat, thing, one, gets, souls, picture, different, stages, loneliness, one, inhabits, big, city, not, exactly, best, place, human, relations, find, sincere, fulfillment, one, discerns, case, people, encounter, acting, good, ...]   \n",
       "5                                                                                                                                                                                                                                                                                                                                          [probably, time, favorite, movie, story, selflessness, sacrifice, dedication, noble, but, not, preachy, boring, never, gets, old, despite, seen, 15, times, last, 25, years, paul, lukas, performance, brings, tears, eyes, bette, davis, one, truly, sympathetic, roles, delight, kids, grandma, says, like, dressed, midgets, children, but, makes, fun, watch, mother, slow, awakening, happening, world, roof, believable, startling, dozen, thumbs, would, movie]   \n",
       "6                                                                                                                                                                                                                                                                                 [sure, would, like, see, resurrection, dated, seahunt, series, tech, today, would, bring, back, kid, excitement, grew, on, black, white, tv, seahunt, gunsmoke, hero, every, week, vote, comeback, new, sea, hunt, need, change, pace, tv, would, work, world, water, adventure, oh, way, thank, outlet, like, view, many, viewpoints, tv, many, movies, ole, way, believe, I, got, want, say, would, nice, read, plus, points, sea, hunt, rhymes, would, 10, lines, would, let, submit, leave, doubt, quit, must, go, let, us]   \n",
       "7                                                                                                                [show, amazing, fresh, innovative, idea, 70, first, aired, first, 7, 8, years, brilliant, but, things, dropped, off, 1990, show, not, really, funny, anymore, continued, decline, complete, waste, time, today, truly, disgraceful, far, show, fallen, writing, painfully, bad, performances, almost, bad, not, mildly, entertaining, respite, guest, hosts, show, probably, would, not, still, on, air, find, hard, believe, creator, hand, selected, original, cast, also, chose, band, hacks, followed, one, recognize, brilliance, see, fit, replace, mediocrity, felt, must, give, 2, stars, respect, original, cast, made, show, huge, success, show, awful, not, believe, still, on, air]   \n",
       "8                                                                                                                                                                                                                                                                                                        [encouraged, positive, comments, film, on, looking, forward, watching, film, bad, mistake, I, seen, 950, films, truly, one, worst, awful, almost, every, way, editing, pacing, storyline, acting, soundtrack, film, song, lame, country, tune, played, no, less, four, times, film, looks, cheap, nasty, boring, extreme, rarely, happy, see, end, credits, film, thing, prevents, giving, 1, score, harvey, keitel, far, best, performance, least, seems, making, bit, effort, one, keitel, obsessives]   \n",
       "9                                                                                                                                                                                                                                                                                                                                                                                                                                                                                                                                                                                                                                                                                           [like, original, gut, wrenching, laughter, like, movie, young, old, love, movie, hell, even, mom, liked, great, camp]   \n",
       "\n",
       "                                                                                                                                                                                                                                                                                                                                                                                                                                                                                                                                                                                                                                                                                                                 review_clean_ps  \\\n",
       "0    [one, review, mention, watch, 1, oz, episod, hook, right, exactli, happen, first, thing, struck, oz, brutal, unflinch, scene, violenc, set, right, word, go, trust, not, show, faint, heart, timid, show, pull, no, punch, regard, drug, sex, violenc, hardcor, classic, use, word, call, oz, nicknam, given, oswald, maximum, secur, state, penitentari, focus, mainli, on, emerald, citi, experiment, section, prison, cell, glass, front, face, inward, privaci, not, high, on, agenda, citi, home, mani, aryan, muslim, gangsta, latino, christian, italian, irish, scuffl, death, stare, dodgi, deal, shadi, agreement, never, far, away, would, say, main, appeal, show, due, fact, goe, show, would, not, dare, ...]   \n",
       "1                        [wonder, littl, product, film, techniqu, unassum, old, time, bbc, fashion, give, comfort, sometim, discomfort, sens, realism, entir, piec, actor, extrem, well, chosen, michael, sheen, not, got, polari, but, voic, pat, truli, see, seamless, edit, guid, refer, william, diari, entri, not, well, worth, watch, but, terrificli, written, perform, piec, master, product, one, great, master, comedi, life, realism, realli, come, home, littl, thing, fantasi, guard, rather, use, tradit, dream, techniqu, remain, solid, disappear, play, on, knowledg, sens, particularli, scene, concern, orton, halliwel, set, particularli, flat, halliwel, mural, decor, everi, surfac, terribl, well, done]   \n",
       "2                                                      [thought, wonder, way, spend, time, on, hot, summer, weekend, sit, air, condit, theater, watch, light, heart, comedi, plot, simplist, but, dialogu, witti, charact, likabl, even, well, bread, suspect, serial, killer, may, disappoint, realiz, not, match, point, 2, risk, addict, thought, proof, woodi, allen, still, fulli, control, style, mani, us, grown, love, I, would, laugh, one, woodi, comedi, year, dare, say, decad, I, never, impress, scarlet, johanson, manag, tone, sexi, imag, jump, right, averag, but, spirit, young, woman, may, not, crown, jewel, career, but, wittier, devil, wear, prada, interest, superman, great, comedi, go, see, friend]   \n",
       "3                                                                                                                                                                                                                                                   [basic, famili, littl, boy, jake, think, zombi, closet, parent, fight, time, movi, slower, soap, opera, suddenli, jake, decid, becom, rambo, kill, zombi, ok, first, go, make, film, must, decid, thriller, drama, drama, movi, watchabl, parent, divorc, argu, like, real, life, jake, closet, total, ruin, film, expect, see, boogeyman, similar, movi, instead, watch, drama, meaningless, thriller, spot, 3, 10, well, play, parent, descent, dialog, shot, jake, ignor]   \n",
       "4  [petter, mattei, love, time, money, visual, stun, film, watch, mr, mattei, offer, us, vivid, portrait, human, relat, movi, seem, tell, us, money, power, success, peopl, differ, situat, encount, variat, on, arthur, schnitzler, play, theme, director, transfer, action, present, time, new, york, differ, charact, meet, connect, one, connect, one, way, anoth, next, person, but, no, one, seem, know, previou, point, contact, stylishli, film, sophist, luxuri, look, taken, see, peopl, live, world, live, habitat, thing, one, get, soul, pictur, differ, stage, loneli, one, inhabit, big, citi, not, exactli, best, place, human, relat, find, sincer, fulfil, one, discern, case, peopl, encount, act, good, ...]   \n",
       "5                                                                                                                                                                                                                                                                                                               [probabl, time, favorit, movi, stori, selfless, sacrific, dedic, nobl, but, not, preachi, bore, never, get, old, despit, seen, 15, time, last, 25, year, paul, luka, perform, bring, tear, eye, bett, davi, one, truli, sympathet, role, delight, kid, grandma, say, like, dress, midget, children, but, make, fun, watch, mother, slow, awaken, happen, world, roof, believ, startl, dozen, thumb, would, movi]   \n",
       "6                                                                                                                                                                                                                       [sure, would, like, see, resurrect, date, seahunt, seri, tech, today, would, bring, back, kid, excit, grew, on, black, white, tv, seahunt, gunsmok, hero, everi, week, vote, comeback, new, sea, hunt, need, chang, pace, tv, would, work, world, water, adventur, oh, way, thank, outlet, like, view, mani, viewpoint, tv, mani, movi, ole, way, believ, I, got, want, say, would, nice, read, plu, point, sea, hunt, rhyme, would, 10, line, would, let, submit, leav, doubt, quit, must, go, let, us]   \n",
       "7                                                                                                 [show, amaz, fresh, innov, idea, 70, first, air, first, 7, 8, year, brilliant, but, thing, drop, off, 1990, show, not, realli, funni, anymor, continu, declin, complet, wast, time, today, truli, disgrac, far, show, fallen, write, pain, bad, perform, almost, bad, not, mildli, entertain, respit, guest, host, show, probabl, would, not, still, on, air, find, hard, believ, creator, hand, select, origin, cast, also, chose, band, hack, follow, one, recogn, brillianc, see, fit, replac, mediocr, felt, must, give, 2, star, respect, origin, cast, made, show, huge, success, show, aw, not, believ, still, on, air]   \n",
       "8                                                                                                                                                                                                                                                                         [encourag, posit, comment, film, on, look, forward, watch, film, bad, mistak, I, seen, 950, film, truli, one, worst, aw, almost, everi, way, edit, pace, storylin, act, soundtrack, film, song, lame, countri, tune, play, no, less, four, time, film, look, cheap, nasti, bore, extrem, rare, happi, see, end, credit, film, thing, prevent, give, 1, score, harvey, keitel, far, best, perform, least, seem, make, bit, effort, one, keitel, obsess]   \n",
       "9                                                                                                                                                                                                                                                                                                                                                                                                                                                                                                                                                                                                                  [like, origin, gut, wrench, laughter, like, movi, young, old, love, movi, hell, even, mom, like, great, camp]   \n",
       "\n",
       "                                                                                                                                                                                                                                                                                                                                                                                                                                                                                                                                                                                                                                                                                                            review_clean_snow  \n",
       "0     [one, review, mention, watch, 1, oz, episod, hook, right, exact, happen, first, thing, struck, oz, brutal, unflinch, scene, violenc, set, right, word, go, trust, not, show, faint, heart, timid, show, pull, no, punch, regard, drug, sex, violenc, hardcor, classic, use, word, call, oz, nicknam, given, oswald, maximum, secur, state, penitentari, focus, main, on, emerald, citi, experiment, section, prison, cell, glass, front, face, inward, privaci, not, high, on, agenda, citi, home, mani, aryan, muslim, gangsta, latino, christian, italian, irish, scuffl, death, stare, dodgi, deal, shadi, agreement, never, far, away, would, say, main, appeal, show, due, fact, goe, show, would, not, dare, ...]  \n",
       "1                             [wonder, littl, product, film, techniqu, unassum, old, time, bbc, fashion, give, comfort, sometim, discomfort, sens, realism, entir, piec, actor, extrem, well, chosen, michael, sheen, not, got, polari, but, voic, pat, truli, see, seamless, edit, guid, refer, william, diari, entri, not, well, worth, watch, but, terrif, written, perform, piec, master, product, one, great, master, comedi, life, realism, realli, come, home, littl, thing, fantasi, guard, rather, use, tradit, dream, techniqu, remain, solid, disappear, play, on, knowledg, sens, particular, scene, concern, orton, halliwel, set, particular, flat, halliwel, mural, decor, everi, surfac, terribl, well, done]  \n",
       "2                                                   [thought, wonder, way, spend, time, on, hot, summer, weekend, sit, air, condit, theater, watch, light, heart, comedi, plot, simplist, but, dialogu, witti, charact, likabl, even, well, bread, suspect, serial, killer, may, disappoint, realiz, not, match, point, 2, risk, addict, thought, proof, woodi, allen, still, fulli, control, style, mani, us, grown, love, i, would, laugh, one, woodi, comedi, year, dare, say, decad, i, never, impress, scarlet, johanson, manag, tone, sexi, imag, jump, right, averag, but, spirit, young, woman, may, not, crown, jewel, career, but, wittier, devil, wear, prada, interest, superman, great, comedi, go, see, friend]  \n",
       "3                                                                                                                                                                                                                                                  [basic, famili, littl, boy, jake, think, zombi, closet, parent, fight, time, movi, slower, soap, opera, sudden, jake, decid, becom, rambo, kill, zombi, ok, first, go, make, film, must, decid, thriller, drama, drama, movi, watchabl, parent, divorc, argu, like, real, life, jake, closet, total, ruin, film, expect, see, boogeyman, similar, movi, instead, watch, drama, meaningless, thriller, spot, 3, 10, well, play, parent, descent, dialog, shot, jake, ignor]  \n",
       "4  [petter, mattei, love, time, money, visual, stun, film, watch, mr, mattei, offer, us, vivid, portrait, human, relat, movi, seem, tell, us, money, power, success, peopl, differ, situat, encount, variat, on, arthur, schnitzler, play, theme, director, transfer, action, present, time, new, york, differ, charact, meet, connect, one, connect, one, way, anoth, next, person, but, no, one, seem, know, previous, point, contact, stylish, film, sophist, luxuri, look, taken, see, peopl, live, world, live, habitat, thing, one, get, soul, pictur, differ, stage, loneli, one, inhabit, big, citi, not, exact, best, place, human, relat, find, sincer, fulfil, one, discern, case, peopl, encount, act, good, ...]  \n",
       "5                                                                                                                                                                                                                                                                                                            [probabl, time, favorit, movi, stori, selfless, sacrific, dedic, nobl, but, not, preachi, bore, never, get, old, despit, seen, 15, time, last, 25, year, paul, luka, perform, bring, tear, eye, bett, davi, one, truli, sympathet, role, delight, kid, grandma, say, like, dress, midget, children, but, make, fun, watch, mother, slow, awaken, happen, world, roof, believ, startl, dozen, thumb, would, movi]  \n",
       "6                                                                                                                                                                                                                   [sure, would, like, see, resurrect, date, seahunt, seri, tech, today, would, bring, back, kid, excit, grew, on, black, white, tv, seahunt, gunsmok, hero, everi, week, vote, comeback, new, sea, hunt, need, chang, pace, tv, would, work, world, water, adventur, oh, way, thank, outlet, like, view, mani, viewpoint, tv, mani, movi, ole, way, believ, i, got, want, say, would, nice, read, plus, point, sea, hunt, rhyme, would, 10, line, would, let, submit, leav, doubt, quit, must, go, let, us]  \n",
       "7                                                                                                [show, amaz, fresh, innov, idea, 70, first, air, first, 7, 8, year, brilliant, but, thing, drop, off, 1990, show, not, realli, funni, anymor, continu, declin, complet, wast, time, today, truli, disgrac, far, show, fallen, write, pain, bad, perform, almost, bad, not, mild, entertain, respit, guest, host, show, probabl, would, not, still, on, air, find, hard, believ, creator, hand, select, origin, cast, also, chose, band, hack, follow, one, recogn, brillianc, see, fit, replac, mediocr, felt, must, give, 2, star, respect, origin, cast, made, show, huge, success, show, aw, not, believ, still, on, air]  \n",
       "8                                                                                                                                                                                                                                                                      [encourag, posit, comment, film, on, look, forward, watch, film, bad, mistak, i, seen, 950, film, truli, one, worst, aw, almost, everi, way, edit, pace, storylin, act, soundtrack, film, song, lame, countri, tune, play, no, less, four, time, film, look, cheap, nasti, bore, extrem, rare, happi, see, end, credit, film, thing, prevent, give, 1, score, harvey, keitel, far, best, perform, least, seem, make, bit, effort, one, keitel, obsess]  \n",
       "9                                                                                                                                                                                                                                                                                                                                                                                                                                                                                                                                                                                                               [like, origin, gut, wrench, laughter, like, movi, young, old, love, movi, hell, even, mom, like, great, camp]  "
      ]
     },
     "execution_count": 17,
     "metadata": {},
     "output_type": "execute_result"
    }
   ],
   "source": [
    "df.head(10)"
   ]
  },
  {
   "cell_type": "code",
   "execution_count": 18,
   "metadata": {},
   "outputs": [],
   "source": [
    "from sklearn.feature_extraction.text import CountVectorizer\n"
   ]
  },
  {
   "cell_type": "code",
   "execution_count": 19,
   "metadata": {},
   "outputs": [],
   "source": [
    "def dummy(x):\n",
    "    return x"
   ]
  },
  {
   "cell_type": "code",
   "execution_count": 20,
   "metadata": {},
   "outputs": [],
   "source": [
    "cv = CountVectorizer(\n",
    "        tokenizer=dummy,\n",
    "        preprocessor=dummy,\n",
    "    )  "
   ]
  },
  {
   "cell_type": "code",
   "execution_count": null,
   "metadata": {},
   "outputs": [],
   "source": []
  },
  {
   "cell_type": "code",
   "execution_count": null,
   "metadata": {},
   "outputs": [],
   "source": []
  },
  {
   "cell_type": "code",
   "execution_count": null,
   "metadata": {},
   "outputs": [],
   "source": []
  },
  {
   "cell_type": "code",
   "execution_count": 21,
   "metadata": {},
   "outputs": [
    {
     "name": "stderr",
     "output_type": "stream",
     "text": [
      "/home/momoman/anaconda3/lib/python3.8/site-packages/sklearn/feature_extraction/text.py:484: UserWarning: The parameter 'token_pattern' will not be used since 'tokenizer' is not None'\n",
      "  warnings.warn(\"The parameter 'token_pattern' will not be used\"\n"
     ]
    }
   ],
   "source": [
    "te=cv.fit(df['review_clean_snow'])"
   ]
  },
  {
   "cell_type": "code",
   "execution_count": 22,
   "metadata": {},
   "outputs": [],
   "source": [
    "word_vec=te.transform(df['review_clean_snow'])"
   ]
  },
  {
   "cell_type": "code",
   "execution_count": 23,
   "metadata": {},
   "outputs": [
    {
     "data": {
      "text/html": [
       "<div>\n",
       "<style scoped>\n",
       "    .dataframe tbody tr th:only-of-type {\n",
       "        vertical-align: middle;\n",
       "    }\n",
       "\n",
       "    .dataframe tbody tr th {\n",
       "        vertical-align: top;\n",
       "    }\n",
       "\n",
       "    .dataframe thead th {\n",
       "        text-align: right;\n",
       "    }\n",
       "</style>\n",
       "<table border=\"1\" class=\"dataframe\">\n",
       "  <thead>\n",
       "    <tr style=\"text-align: right;\">\n",
       "      <th></th>\n",
       "      <th>review</th>\n",
       "      <th>sentiment</th>\n",
       "      <th>review_clean</th>\n",
       "      <th>review_clean_ps</th>\n",
       "      <th>review_clean_snow</th>\n",
       "    </tr>\n",
       "  </thead>\n",
       "  <tbody>\n",
       "    <tr>\n",
       "      <th>0</th>\n",
       "      <td>One of the other reviewers has mentioned that after watching just 1 Oz episode you'll be hooked. They are right, as this is exactly what happened with me.&lt;br /&gt;&lt;br /&gt;The first thing that struck me about Oz was its brutality and unflinching scenes of violence, which set in right from the word GO. Trust me, this is not a show for the faint hearted or timid. This show pulls no punches with regards to drugs, sex or violence. Its is hardcore, in the classic use of the word.&lt;br /&gt;&lt;br /&gt;It is called OZ as that is the nickname given to the Oswald Maximum Security State Penitentary. It focuses mainly on Emerald City, an experimental section of the prison where all the cells have glass fronts and face inwards, so privacy is not high on the agenda. Em City is home to many..Aryans, Muslims, gangstas, Latinos, Christians, Italians, Irish and more....so scuffles, death stares, dodgy dealings and shady agreements are never far away.&lt;br /&gt;&lt;br /&gt;I would say the main appeal of the show is due to the fact that it goes where other shows wouldn't dare. Forget pretty pictures painted for mainstream audiences, forget charm, forget romance...OZ doesn't mess around. The first episode I ever saw struck me as so nasty it was surreal, I couldn't say I was ready for it, but as I watched more, I developed a taste for Oz, and got accustomed to the high levels of graphic violence. Not just violence, but injustice (crooked guards who'll be sold out for a nickel, inmates who'll kill on order and get away with it, well mannered, middle class inmates being turned into prison bitches due to their lack of street skills or prison experience) Watching Oz, you may become comfortable with what is uncomfortable viewing....thats if you can get in touch with your darker side.</td>\n",
       "      <td>positive</td>\n",
       "      <td>[one, reviewers, mentioned, watching, 1, oz, episode, hooked, right, exactly, happened, first, thing, struck, oz, brutality, unflinching, scenes, violence, set, right, word, go, trust, not, show, faint, hearted, timid, show, pulls, no, punches, regards, drugs, sex, violence, hardcore, classic, use, word, called, oz, nickname, given, oswald, maximum, security, state, penitentary, focuses, mainly, on, emerald, city, experimental, section, prison, cells, glass, fronts, face, inwards, privacy, not, high, on, agenda, city, home, many, aryans, muslims, gangstas, latinos, christians, italians, irish, scuffles, death, stares, dodgy, dealings, shady, agreements, never, far, away, would, say, main, appeal, show, due, fact, goes, shows, would, not, dare, ...]</td>\n",
       "      <td>[one, review, mention, watch, 1, oz, episod, hook, right, exactli, happen, first, thing, struck, oz, brutal, unflinch, scene, violenc, set, right, word, go, trust, not, show, faint, heart, timid, show, pull, no, punch, regard, drug, sex, violenc, hardcor, classic, use, word, call, oz, nicknam, given, oswald, maximum, secur, state, penitentari, focus, mainli, on, emerald, citi, experiment, section, prison, cell, glass, front, face, inward, privaci, not, high, on, agenda, citi, home, mani, aryan, muslim, gangsta, latino, christian, italian, irish, scuffl, death, stare, dodgi, deal, shadi, agreement, never, far, away, would, say, main, appeal, show, due, fact, goe, show, would, not, dare, ...]</td>\n",
       "      <td>[one, review, mention, watch, 1, oz, episod, hook, right, exact, happen, first, thing, struck, oz, brutal, unflinch, scene, violenc, set, right, word, go, trust, not, show, faint, heart, timid, show, pull, no, punch, regard, drug, sex, violenc, hardcor, classic, use, word, call, oz, nicknam, given, oswald, maximum, secur, state, penitentari, focus, main, on, emerald, citi, experiment, section, prison, cell, glass, front, face, inward, privaci, not, high, on, agenda, citi, home, mani, aryan, muslim, gangsta, latino, christian, italian, irish, scuffl, death, stare, dodgi, deal, shadi, agreement, never, far, away, would, say, main, appeal, show, due, fact, goe, show, would, not, dare, ...]</td>\n",
       "    </tr>\n",
       "    <tr>\n",
       "      <th>1</th>\n",
       "      <td>A wonderful little production. &lt;br /&gt;&lt;br /&gt;The filming technique is very unassuming- very old-time-BBC fashion and gives a comforting, and sometimes discomforting, sense of realism to the entire piece. &lt;br /&gt;&lt;br /&gt;The actors are extremely well chosen- Michael Sheen not only \"has got all the polari\" but he has all the voices down pat too! You can truly see the seamless editing guided by the references to Williams' diary entries, not only is it well worth the watching but it is a terrificly written and performed piece. A masterful production about one of the great master's of comedy and his life. &lt;br /&gt;&lt;br /&gt;The realism really comes home with the little things: the fantasy of the guard which, rather than use the traditional 'dream' techniques remains solid then disappears. It plays on our knowledge and our senses, particularly with the scenes concerning Orton and Halliwell and the sets (particularly of their flat with Halliwell's murals decorating every surface) are terribly well done.</td>\n",
       "      <td>positive</td>\n",
       "      <td>[wonderful, little, production, filming, technique, unassuming, old, time, bbc, fashion, gives, comforting, sometimes, discomforting, sense, realism, entire, piece, actors, extremely, well, chosen, michael, sheen, not, got, polari, but, voices, pat, truly, see, seamless, editing, guided, references, williams, diary, entries, not, well, worth, watching, but, terrificly, written, performed, piece, masterful, production, one, great, master, comedy, life, realism, really, comes, home, little, things, fantasy, guard, rather, use, traditional, dream, techniques, remains, solid, disappears, plays, on, knowledge, senses, particularly, scenes, concerning, orton, halliwell, sets, particularly, flat, halliwell, murals, decorating, every, surface, terribly, well, done]</td>\n",
       "      <td>[wonder, littl, product, film, techniqu, unassum, old, time, bbc, fashion, give, comfort, sometim, discomfort, sens, realism, entir, piec, actor, extrem, well, chosen, michael, sheen, not, got, polari, but, voic, pat, truli, see, seamless, edit, guid, refer, william, diari, entri, not, well, worth, watch, but, terrificli, written, perform, piec, master, product, one, great, master, comedi, life, realism, realli, come, home, littl, thing, fantasi, guard, rather, use, tradit, dream, techniqu, remain, solid, disappear, play, on, knowledg, sens, particularli, scene, concern, orton, halliwel, set, particularli, flat, halliwel, mural, decor, everi, surfac, terribl, well, done]</td>\n",
       "      <td>[wonder, littl, product, film, techniqu, unassum, old, time, bbc, fashion, give, comfort, sometim, discomfort, sens, realism, entir, piec, actor, extrem, well, chosen, michael, sheen, not, got, polari, but, voic, pat, truli, see, seamless, edit, guid, refer, william, diari, entri, not, well, worth, watch, but, terrif, written, perform, piec, master, product, one, great, master, comedi, life, realism, realli, come, home, littl, thing, fantasi, guard, rather, use, tradit, dream, techniqu, remain, solid, disappear, play, on, knowledg, sens, particular, scene, concern, orton, halliwel, set, particular, flat, halliwel, mural, decor, everi, surfac, terribl, well, done]</td>\n",
       "    </tr>\n",
       "  </tbody>\n",
       "</table>\n",
       "</div>"
      ],
      "text/plain": [
       "                                                                                                                                                                                                                                                                                                                                                                                                                                                                                                                                                                                                                                                                                                                                                                                                                                                                                                                                                                                                                                                                                                                                                                                                                                                                                                                                                                                                                                                                                                                                                                                                                                                                                                                                                                                                                              review  \\\n",
       "0  One of the other reviewers has mentioned that after watching just 1 Oz episode you'll be hooked. They are right, as this is exactly what happened with me.<br /><br />The first thing that struck me about Oz was its brutality and unflinching scenes of violence, which set in right from the word GO. Trust me, this is not a show for the faint hearted or timid. This show pulls no punches with regards to drugs, sex or violence. Its is hardcore, in the classic use of the word.<br /><br />It is called OZ as that is the nickname given to the Oswald Maximum Security State Penitentary. It focuses mainly on Emerald City, an experimental section of the prison where all the cells have glass fronts and face inwards, so privacy is not high on the agenda. Em City is home to many..Aryans, Muslims, gangstas, Latinos, Christians, Italians, Irish and more....so scuffles, death stares, dodgy dealings and shady agreements are never far away.<br /><br />I would say the main appeal of the show is due to the fact that it goes where other shows wouldn't dare. Forget pretty pictures painted for mainstream audiences, forget charm, forget romance...OZ doesn't mess around. The first episode I ever saw struck me as so nasty it was surreal, I couldn't say I was ready for it, but as I watched more, I developed a taste for Oz, and got accustomed to the high levels of graphic violence. Not just violence, but injustice (crooked guards who'll be sold out for a nickel, inmates who'll kill on order and get away with it, well mannered, middle class inmates being turned into prison bitches due to their lack of street skills or prison experience) Watching Oz, you may become comfortable with what is uncomfortable viewing....thats if you can get in touch with your darker side.   \n",
       "1                                                                                                                                                                                                                                                                                                                                                                                                                                                                                                                                                                                                                                                                                                                                                                                             A wonderful little production. <br /><br />The filming technique is very unassuming- very old-time-BBC fashion and gives a comforting, and sometimes discomforting, sense of realism to the entire piece. <br /><br />The actors are extremely well chosen- Michael Sheen not only \"has got all the polari\" but he has all the voices down pat too! You can truly see the seamless editing guided by the references to Williams' diary entries, not only is it well worth the watching but it is a terrificly written and performed piece. A masterful production about one of the great master's of comedy and his life. <br /><br />The realism really comes home with the little things: the fantasy of the guard which, rather than use the traditional 'dream' techniques remains solid then disappears. It plays on our knowledge and our senses, particularly with the scenes concerning Orton and Halliwell and the sets (particularly of their flat with Halliwell's murals decorating every surface) are terribly well done.   \n",
       "\n",
       "  sentiment  \\\n",
       "0  positive   \n",
       "1  positive   \n",
       "\n",
       "                                                                                                                                                                                                                                                                                                                                                                                                                                                                                                                                                                                                                                                                                                                                                                                      review_clean  \\\n",
       "0           [one, reviewers, mentioned, watching, 1, oz, episode, hooked, right, exactly, happened, first, thing, struck, oz, brutality, unflinching, scenes, violence, set, right, word, go, trust, not, show, faint, hearted, timid, show, pulls, no, punches, regards, drugs, sex, violence, hardcore, classic, use, word, called, oz, nickname, given, oswald, maximum, security, state, penitentary, focuses, mainly, on, emerald, city, experimental, section, prison, cells, glass, fronts, face, inwards, privacy, not, high, on, agenda, city, home, many, aryans, muslims, gangstas, latinos, christians, italians, irish, scuffles, death, stares, dodgy, dealings, shady, agreements, never, far, away, would, say, main, appeal, show, due, fact, goes, shows, would, not, dare, ...]   \n",
       "1  [wonderful, little, production, filming, technique, unassuming, old, time, bbc, fashion, gives, comforting, sometimes, discomforting, sense, realism, entire, piece, actors, extremely, well, chosen, michael, sheen, not, got, polari, but, voices, pat, truly, see, seamless, editing, guided, references, williams, diary, entries, not, well, worth, watching, but, terrificly, written, performed, piece, masterful, production, one, great, master, comedy, life, realism, really, comes, home, little, things, fantasy, guard, rather, use, traditional, dream, techniques, remains, solid, disappears, plays, on, knowledge, senses, particularly, scenes, concerning, orton, halliwell, sets, particularly, flat, halliwell, murals, decorating, every, surface, terribly, well, done]   \n",
       "\n",
       "                                                                                                                                                                                                                                                                                                                                                                                                                                                                                                                                                                                                                                                                                                               review_clean_ps  \\\n",
       "0  [one, review, mention, watch, 1, oz, episod, hook, right, exactli, happen, first, thing, struck, oz, brutal, unflinch, scene, violenc, set, right, word, go, trust, not, show, faint, heart, timid, show, pull, no, punch, regard, drug, sex, violenc, hardcor, classic, use, word, call, oz, nicknam, given, oswald, maximum, secur, state, penitentari, focus, mainli, on, emerald, citi, experiment, section, prison, cell, glass, front, face, inward, privaci, not, high, on, agenda, citi, home, mani, aryan, muslim, gangsta, latino, christian, italian, irish, scuffl, death, stare, dodgi, deal, shadi, agreement, never, far, away, would, say, main, appeal, show, due, fact, goe, show, would, not, dare, ...]   \n",
       "1                      [wonder, littl, product, film, techniqu, unassum, old, time, bbc, fashion, give, comfort, sometim, discomfort, sens, realism, entir, piec, actor, extrem, well, chosen, michael, sheen, not, got, polari, but, voic, pat, truli, see, seamless, edit, guid, refer, william, diari, entri, not, well, worth, watch, but, terrificli, written, perform, piec, master, product, one, great, master, comedi, life, realism, realli, come, home, littl, thing, fantasi, guard, rather, use, tradit, dream, techniqu, remain, solid, disappear, play, on, knowledg, sens, particularli, scene, concern, orton, halliwel, set, particularli, flat, halliwel, mural, decor, everi, surfac, terribl, well, done]   \n",
       "\n",
       "                                                                                                                                                                                                                                                                                                                                                                                                                                                                                                                                                                                                                                                                                                         review_clean_snow  \n",
       "0  [one, review, mention, watch, 1, oz, episod, hook, right, exact, happen, first, thing, struck, oz, brutal, unflinch, scene, violenc, set, right, word, go, trust, not, show, faint, heart, timid, show, pull, no, punch, regard, drug, sex, violenc, hardcor, classic, use, word, call, oz, nicknam, given, oswald, maximum, secur, state, penitentari, focus, main, on, emerald, citi, experiment, section, prison, cell, glass, front, face, inward, privaci, not, high, on, agenda, citi, home, mani, aryan, muslim, gangsta, latino, christian, italian, irish, scuffl, death, stare, dodgi, deal, shadi, agreement, never, far, away, would, say, main, appeal, show, due, fact, goe, show, would, not, dare, ...]  \n",
       "1                          [wonder, littl, product, film, techniqu, unassum, old, time, bbc, fashion, give, comfort, sometim, discomfort, sens, realism, entir, piec, actor, extrem, well, chosen, michael, sheen, not, got, polari, but, voic, pat, truli, see, seamless, edit, guid, refer, william, diari, entri, not, well, worth, watch, but, terrif, written, perform, piec, master, product, one, great, master, comedi, life, realism, realli, come, home, littl, thing, fantasi, guard, rather, use, tradit, dream, techniqu, remain, solid, disappear, play, on, knowledg, sens, particular, scene, concern, orton, halliwel, set, particular, flat, halliwel, mural, decor, everi, surfac, terribl, well, done]  "
      ]
     },
     "execution_count": 23,
     "metadata": {},
     "output_type": "execute_result"
    }
   ],
   "source": [
    "df.head(2)"
   ]
  },
  {
   "cell_type": "code",
   "execution_count": null,
   "metadata": {},
   "outputs": [],
   "source": []
  },
  {
   "cell_type": "code",
   "execution_count": 24,
   "metadata": {},
   "outputs": [],
   "source": [
    "from sklearn.feature_extraction.text import TfidfTransformer"
   ]
  },
  {
   "cell_type": "code",
   "execution_count": 25,
   "metadata": {},
   "outputs": [],
   "source": [
    "tfidf=TfidfTransformer( norm='l2', use_idf=True, smooth_idf=True, sublinear_tf=False)"
   ]
  },
  {
   "cell_type": "code",
   "execution_count": 26,
   "metadata": {},
   "outputs": [],
   "source": [
    "tfidf_vec=tfidf.fit_transform(word_vec)"
   ]
  },
  {
   "cell_type": "code",
   "execution_count": 27,
   "metadata": {},
   "outputs": [
    {
     "data": {
      "text/plain": [
       "<50000x70542 sparse matrix of type '<class 'numpy.float64'>'\n",
       "\twith 4863492 stored elements in Compressed Sparse Row format>"
      ]
     },
     "execution_count": 27,
     "metadata": {},
     "output_type": "execute_result"
    }
   ],
   "source": [
    "tfidf_vec"
   ]
  },
  {
   "cell_type": "code",
   "execution_count": 34,
   "metadata": {},
   "outputs": [],
   "source": [
    "df['sentiment']=df['sentiment'].replace('positive',1).replace('negative',0)"
   ]
  },
  {
   "cell_type": "code",
   "execution_count": 35,
   "metadata": {},
   "outputs": [
    {
     "data": {
      "text/html": [
       "<div>\n",
       "<style scoped>\n",
       "    .dataframe tbody tr th:only-of-type {\n",
       "        vertical-align: middle;\n",
       "    }\n",
       "\n",
       "    .dataframe tbody tr th {\n",
       "        vertical-align: top;\n",
       "    }\n",
       "\n",
       "    .dataframe thead th {\n",
       "        text-align: right;\n",
       "    }\n",
       "</style>\n",
       "<table border=\"1\" class=\"dataframe\">\n",
       "  <thead>\n",
       "    <tr style=\"text-align: right;\">\n",
       "      <th></th>\n",
       "      <th>review</th>\n",
       "      <th>sentiment</th>\n",
       "      <th>review_clean</th>\n",
       "      <th>review_clean_ps</th>\n",
       "      <th>review_clean_snow</th>\n",
       "    </tr>\n",
       "  </thead>\n",
       "  <tbody>\n",
       "    <tr>\n",
       "      <th>0</th>\n",
       "      <td>One of the other reviewers has mentioned that after watching just 1 Oz episode you'll be hooked. They are right, as this is exactly what happened with me.&lt;br /&gt;&lt;br /&gt;The first thing that struck me about Oz was its brutality and unflinching scenes of violence, which set in right from the word GO. Trust me, this is not a show for the faint hearted or timid. This show pulls no punches with regards to drugs, sex or violence. Its is hardcore, in the classic use of the word.&lt;br /&gt;&lt;br /&gt;It is called OZ as that is the nickname given to the Oswald Maximum Security State Penitentary. It focuses mainly on Emerald City, an experimental section of the prison where all the cells have glass fronts and face inwards, so privacy is not high on the agenda. Em City is home to many..Aryans, Muslims, gangstas, Latinos, Christians, Italians, Irish and more....so scuffles, death stares, dodgy dealings and shady agreements are never far away.&lt;br /&gt;&lt;br /&gt;I would say the main appeal of the show is due to the fact that it goes where other shows wouldn't dare. Forget pretty pictures painted for mainstream audiences, forget charm, forget romance...OZ doesn't mess around. The first episode I ever saw struck me as so nasty it was surreal, I couldn't say I was ready for it, but as I watched more, I developed a taste for Oz, and got accustomed to the high levels of graphic violence. Not just violence, but injustice (crooked guards who'll be sold out for a nickel, inmates who'll kill on order and get away with it, well mannered, middle class inmates being turned into prison bitches due to their lack of street skills or prison experience) Watching Oz, you may become comfortable with what is uncomfortable viewing....thats if you can get in touch with your darker side.</td>\n",
       "      <td>1</td>\n",
       "      <td>[one, reviewers, mentioned, watching, 1, oz, episode, hooked, right, exactly, happened, first, thing, struck, oz, brutality, unflinching, scenes, violence, set, right, word, go, trust, not, show, faint, hearted, timid, show, pulls, no, punches, regards, drugs, sex, violence, hardcore, classic, use, word, called, oz, nickname, given, oswald, maximum, security, state, penitentary, focuses, mainly, on, emerald, city, experimental, section, prison, cells, glass, fronts, face, inwards, privacy, not, high, on, agenda, city, home, many, aryans, muslims, gangstas, latinos, christians, italians, irish, scuffles, death, stares, dodgy, dealings, shady, agreements, never, far, away, would, say, main, appeal, show, due, fact, goes, shows, would, not, dare, ...]</td>\n",
       "      <td>[one, review, mention, watch, 1, oz, episod, hook, right, exactli, happen, first, thing, struck, oz, brutal, unflinch, scene, violenc, set, right, word, go, trust, not, show, faint, heart, timid, show, pull, no, punch, regard, drug, sex, violenc, hardcor, classic, use, word, call, oz, nicknam, given, oswald, maximum, secur, state, penitentari, focus, mainli, on, emerald, citi, experiment, section, prison, cell, glass, front, face, inward, privaci, not, high, on, agenda, citi, home, mani, aryan, muslim, gangsta, latino, christian, italian, irish, scuffl, death, stare, dodgi, deal, shadi, agreement, never, far, away, would, say, main, appeal, show, due, fact, goe, show, would, not, dare, ...]</td>\n",
       "      <td>[one, review, mention, watch, 1, oz, episod, hook, right, exact, happen, first, thing, struck, oz, brutal, unflinch, scene, violenc, set, right, word, go, trust, not, show, faint, heart, timid, show, pull, no, punch, regard, drug, sex, violenc, hardcor, classic, use, word, call, oz, nicknam, given, oswald, maximum, secur, state, penitentari, focus, main, on, emerald, citi, experiment, section, prison, cell, glass, front, face, inward, privaci, not, high, on, agenda, citi, home, mani, aryan, muslim, gangsta, latino, christian, italian, irish, scuffl, death, stare, dodgi, deal, shadi, agreement, never, far, away, would, say, main, appeal, show, due, fact, goe, show, would, not, dare, ...]</td>\n",
       "    </tr>\n",
       "  </tbody>\n",
       "</table>\n",
       "</div>"
      ],
      "text/plain": [
       "                                                                                                                                                                                                                                                                                                                                                                                                                                                                                                                                                                                                                                                                                                                                                                                                                                                                                                                                                                                                                                                                                                                                                                                                                                                                                                                                                                                                                                                                                                                                                                                                                                                                                                                                                                                                                              review  \\\n",
       "0  One of the other reviewers has mentioned that after watching just 1 Oz episode you'll be hooked. They are right, as this is exactly what happened with me.<br /><br />The first thing that struck me about Oz was its brutality and unflinching scenes of violence, which set in right from the word GO. Trust me, this is not a show for the faint hearted or timid. This show pulls no punches with regards to drugs, sex or violence. Its is hardcore, in the classic use of the word.<br /><br />It is called OZ as that is the nickname given to the Oswald Maximum Security State Penitentary. It focuses mainly on Emerald City, an experimental section of the prison where all the cells have glass fronts and face inwards, so privacy is not high on the agenda. Em City is home to many..Aryans, Muslims, gangstas, Latinos, Christians, Italians, Irish and more....so scuffles, death stares, dodgy dealings and shady agreements are never far away.<br /><br />I would say the main appeal of the show is due to the fact that it goes where other shows wouldn't dare. Forget pretty pictures painted for mainstream audiences, forget charm, forget romance...OZ doesn't mess around. The first episode I ever saw struck me as so nasty it was surreal, I couldn't say I was ready for it, but as I watched more, I developed a taste for Oz, and got accustomed to the high levels of graphic violence. Not just violence, but injustice (crooked guards who'll be sold out for a nickel, inmates who'll kill on order and get away with it, well mannered, middle class inmates being turned into prison bitches due to their lack of street skills or prison experience) Watching Oz, you may become comfortable with what is uncomfortable viewing....thats if you can get in touch with your darker side.   \n",
       "\n",
       "   sentiment  \\\n",
       "0          1   \n",
       "\n",
       "                                                                                                                                                                                                                                                                                                                                                                                                                                                                                                                                                                                                                                                                                                                                                                             review_clean  \\\n",
       "0  [one, reviewers, mentioned, watching, 1, oz, episode, hooked, right, exactly, happened, first, thing, struck, oz, brutality, unflinching, scenes, violence, set, right, word, go, trust, not, show, faint, hearted, timid, show, pulls, no, punches, regards, drugs, sex, violence, hardcore, classic, use, word, called, oz, nickname, given, oswald, maximum, security, state, penitentary, focuses, mainly, on, emerald, city, experimental, section, prison, cells, glass, fronts, face, inwards, privacy, not, high, on, agenda, city, home, many, aryans, muslims, gangstas, latinos, christians, italians, irish, scuffles, death, stares, dodgy, dealings, shady, agreements, never, far, away, would, say, main, appeal, show, due, fact, goes, shows, would, not, dare, ...]   \n",
       "\n",
       "                                                                                                                                                                                                                                                                                                                                                                                                                                                                                                                                                                                                                                                                                                               review_clean_ps  \\\n",
       "0  [one, review, mention, watch, 1, oz, episod, hook, right, exactli, happen, first, thing, struck, oz, brutal, unflinch, scene, violenc, set, right, word, go, trust, not, show, faint, heart, timid, show, pull, no, punch, regard, drug, sex, violenc, hardcor, classic, use, word, call, oz, nicknam, given, oswald, maximum, secur, state, penitentari, focus, mainli, on, emerald, citi, experiment, section, prison, cell, glass, front, face, inward, privaci, not, high, on, agenda, citi, home, mani, aryan, muslim, gangsta, latino, christian, italian, irish, scuffl, death, stare, dodgi, deal, shadi, agreement, never, far, away, would, say, main, appeal, show, due, fact, goe, show, would, not, dare, ...]   \n",
       "\n",
       "                                                                                                                                                                                                                                                                                                                                                                                                                                                                                                                                                                                                                                                                                                         review_clean_snow  \n",
       "0  [one, review, mention, watch, 1, oz, episod, hook, right, exact, happen, first, thing, struck, oz, brutal, unflinch, scene, violenc, set, right, word, go, trust, not, show, faint, heart, timid, show, pull, no, punch, regard, drug, sex, violenc, hardcor, classic, use, word, call, oz, nicknam, given, oswald, maximum, secur, state, penitentari, focus, main, on, emerald, citi, experiment, section, prison, cell, glass, front, face, inward, privaci, not, high, on, agenda, citi, home, mani, aryan, muslim, gangsta, latino, christian, italian, irish, scuffl, death, stare, dodgi, deal, shadi, agreement, never, far, away, would, say, main, appeal, show, due, fact, goe, show, would, not, dare, ...]  "
      ]
     },
     "execution_count": 35,
     "metadata": {},
     "output_type": "execute_result"
    }
   ],
   "source": [
    "df.head(1)"
   ]
  },
  {
   "cell_type": "code",
   "execution_count": null,
   "metadata": {},
   "outputs": [],
   "source": []
  },
  {
   "cell_type": "code",
   "execution_count": 46,
   "metadata": {},
   "outputs": [],
   "source": [
    "from sklearn.model_selection import train_test_split\n",
    "from sklearn.model_selection import cross_val_score\n",
    "from sklearn.svm import SVC\n"
   ]
  },
  {
   "cell_type": "code",
   "execution_count": 41,
   "metadata": {},
   "outputs": [],
   "source": [
    "X=tfidf_vec\n",
    "y=df['sentiment']"
   ]
  },
  {
   "cell_type": "code",
   "execution_count": 43,
   "metadata": {},
   "outputs": [],
   "source": [
    " X_train, X_test, y_train, y_test =train_test_split(X,y, test_size=None, train_size=None, random_state=12, shuffle=True, stratify=None)"
   ]
  },
  {
   "cell_type": "code",
   "execution_count": null,
   "metadata": {},
   "outputs": [],
   "source": [
    "log_clf = LogisticRegression(max_iter=1000)\n",
    "\n",
    "scores_cv = model_selection.cross_val_score(log_clf, X_train,y_train , cv=3, scoring=\"f1\")"
   ]
  },
  {
   "cell_type": "code",
   "execution_count": null,
   "metadata": {},
   "outputs": [],
   "source": [
    "clf = SVC(kernel='rbf').fit(X_train, y_train)"
   ]
  },
  {
   "cell_type": "code",
   "execution_count": null,
   "metadata": {},
   "outputs": [],
   "source": []
  },
  {
   "cell_type": "code",
   "execution_count": null,
   "metadata": {},
   "outputs": [],
   "source": []
  },
  {
   "cell_type": "code",
   "execution_count": null,
   "metadata": {},
   "outputs": [],
   "source": []
  }
 ],
 "metadata": {
  "kernelspec": {
   "display_name": "Python 3",
   "language": "python",
   "name": "python3"
  },
  "language_info": {
   "codemirror_mode": {
    "name": "ipython",
    "version": 3
   },
   "file_extension": ".py",
   "mimetype": "text/x-python",
   "name": "python",
   "nbconvert_exporter": "python",
   "pygments_lexer": "ipython3",
   "version": "3.8.5"
  }
 },
 "nbformat": 4,
 "nbformat_minor": 4
}
